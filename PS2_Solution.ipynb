{
 "cells": [
  {
   "cell_type": "markdown",
   "metadata": {},
   "source": [
    "## Question 1\n",
    "\n",
    "$$X = [X_1, X_2] \\ and \\ \\beta = \\begin{bmatrix} \\beta_1 \\\\ \\beta_2 \\end{bmatrix}$$\n",
    "$$\\hat\\beta =  (X'X)^{-1}X'y$$"
   ]
  },
  {
   "cell_type": "markdown",
   "metadata": {},
   "source": [
    "**Solving**\n",
    "$$ y = X \\beta + e$$\n",
    "$$ y = [X_1, X_2] \\begin{bmatrix} \\beta_1 \\\\ \\beta_2 \\end{bmatrix} + e $$\n",
    "$$ y = X_1 \\beta_1 + X_2 \\beta_2 + e $$\n",
    "$$Multiplying \\ above \\ equation \\ with \\ X_1' \\ and \\ X_2' \\ on \\ both \\ sides$$\n",
    "$$ X_1'y = X_1'X_1 \\beta_1 + X_1'X_2 \\beta_2 + X_1'e $$\n",
    "$$ X_2'y = X_2'X_1 \\beta_1 + X_2'X_2 \\beta_2 + X_2'e $$\n",
    "$$ Here \\ X_1'e \\ and \\ X_2'e = 0 $$ \n",
    "So, \n",
    "$$ X_1'y = X_1'X_1 \\beta_1 + X_1'X_2 \\beta_2 \\ --eq. (2)$$\n",
    "$$ X_2'y = X_2'X_1 \\beta_1 + X_2'X_2 \\beta_2 \\ --eq. (3)$$\n",
    "\n",
    "$$ Solving \\ for \\ \\beta_1$$\n",
    "$$ \\hat\\beta_1 = X_1'(y - X_2\\beta_2)(X_1'X_1)^{-1}$$\n",
    "\n",
    "$$ Multiplying \\ eq. (2) \\ by \\ X_2'X_1(X_1'X_1)^{-1} $$ \n",
    "\n",
    "$$ X_2'X_1\\beta_1 + X_2'X_1(X_1'X_1)^{-1}X_1'X_2\\beta_2 = X_2'X_1(X_1'X_1)^{-1}X_1'y $$\n",
    "\n",
    "$$ [X_2'X_2 - X_2'X_1(X_1'X_1)^{-1}X_1'X_2] \\beta_2 = X_2'y - X_2'X_1(X_1'X_1)^{-1}X_1'y $$\n",
    "$$ Let \\ P_1 = X_1(X_1'X_1)^{-1}X_1' $$\n",
    "$$ [X_2'X_2 - X_2'P_1X_2] \\beta_2 = X_2'y - X_2'P_1y $$\n",
    "$$ [X_2'(I-P_1)X_2] \\beta_2 = X_2'(I-P_1)y $$\n",
    "\n",
    "Therefore,\n",
    "$$  \\hat\\beta_2 = [X_2'(I-P_1)X_2]^{-1} X_2'(I-P_1)y $$\n",
    "$$ \\hat\\beta_1 = X_1'(y - X_2\\beta_2)(X_1'X_1)^{-1}$$"
   ]
  },
  {
   "cell_type": "markdown",
   "metadata": {},
   "source": [
    "## Question 2"
   ]
  },
  {
   "cell_type": "code",
   "execution_count": 29,
   "metadata": {},
   "outputs": [],
   "source": [
    "import numpy as np\n",
    "import pandas as pd"
   ]
  },
  {
   "cell_type": "code",
   "execution_count": 30,
   "metadata": {},
   "outputs": [
    {
     "data": {
      "text/html": [
       "<div>\n",
       "<style scoped>\n",
       "    .dataframe tbody tr th:only-of-type {\n",
       "        vertical-align: middle;\n",
       "    }\n",
       "\n",
       "    .dataframe tbody tr th {\n",
       "        vertical-align: top;\n",
       "    }\n",
       "\n",
       "    .dataframe thead th {\n",
       "        text-align: right;\n",
       "    }\n",
       "</style>\n",
       "<table border=\"1\" class=\"dataframe\">\n",
       "  <thead>\n",
       "    <tr style=\"text-align: right;\">\n",
       "      <th></th>\n",
       "      <th>faminc</th>\n",
       "      <th>cigtax</th>\n",
       "      <th>cigprice</th>\n",
       "      <th>bwght</th>\n",
       "      <th>fatheduc</th>\n",
       "      <th>motheduc</th>\n",
       "      <th>parity</th>\n",
       "      <th>male</th>\n",
       "      <th>white</th>\n",
       "      <th>cigs</th>\n",
       "      <th>lbwght</th>\n",
       "      <th>bwghtlbs</th>\n",
       "      <th>packs</th>\n",
       "      <th>lfaminc</th>\n",
       "    </tr>\n",
       "  </thead>\n",
       "  <tbody>\n",
       "    <tr>\n",
       "      <th>0</th>\n",
       "      <td>13.5</td>\n",
       "      <td>16.5</td>\n",
       "      <td>122.3</td>\n",
       "      <td>109</td>\n",
       "      <td>12.0</td>\n",
       "      <td>12.0</td>\n",
       "      <td>1</td>\n",
       "      <td>1</td>\n",
       "      <td>1</td>\n",
       "      <td>0</td>\n",
       "      <td>4.691348</td>\n",
       "      <td>6.8125</td>\n",
       "      <td>0.0</td>\n",
       "      <td>2.602690</td>\n",
       "    </tr>\n",
       "    <tr>\n",
       "      <th>1</th>\n",
       "      <td>7.5</td>\n",
       "      <td>16.5</td>\n",
       "      <td>122.3</td>\n",
       "      <td>133</td>\n",
       "      <td>6.0</td>\n",
       "      <td>12.0</td>\n",
       "      <td>2</td>\n",
       "      <td>1</td>\n",
       "      <td>0</td>\n",
       "      <td>0</td>\n",
       "      <td>4.890349</td>\n",
       "      <td>8.3125</td>\n",
       "      <td>0.0</td>\n",
       "      <td>2.014903</td>\n",
       "    </tr>\n",
       "    <tr>\n",
       "      <th>2</th>\n",
       "      <td>0.5</td>\n",
       "      <td>16.5</td>\n",
       "      <td>122.3</td>\n",
       "      <td>129</td>\n",
       "      <td>NaN</td>\n",
       "      <td>12.0</td>\n",
       "      <td>2</td>\n",
       "      <td>0</td>\n",
       "      <td>0</td>\n",
       "      <td>0</td>\n",
       "      <td>4.859812</td>\n",
       "      <td>8.0625</td>\n",
       "      <td>0.0</td>\n",
       "      <td>-0.693147</td>\n",
       "    </tr>\n",
       "    <tr>\n",
       "      <th>3</th>\n",
       "      <td>15.5</td>\n",
       "      <td>16.5</td>\n",
       "      <td>122.3</td>\n",
       "      <td>126</td>\n",
       "      <td>12.0</td>\n",
       "      <td>12.0</td>\n",
       "      <td>2</td>\n",
       "      <td>1</td>\n",
       "      <td>0</td>\n",
       "      <td>0</td>\n",
       "      <td>4.836282</td>\n",
       "      <td>7.8750</td>\n",
       "      <td>0.0</td>\n",
       "      <td>2.740840</td>\n",
       "    </tr>\n",
       "    <tr>\n",
       "      <th>4</th>\n",
       "      <td>27.5</td>\n",
       "      <td>16.5</td>\n",
       "      <td>122.3</td>\n",
       "      <td>134</td>\n",
       "      <td>14.0</td>\n",
       "      <td>12.0</td>\n",
       "      <td>2</td>\n",
       "      <td>1</td>\n",
       "      <td>1</td>\n",
       "      <td>0</td>\n",
       "      <td>4.897840</td>\n",
       "      <td>8.3750</td>\n",
       "      <td>0.0</td>\n",
       "      <td>3.314186</td>\n",
       "    </tr>\n",
       "  </tbody>\n",
       "</table>\n",
       "</div>"
      ],
      "text/plain": [
       "   faminc  cigtax  cigprice  bwght  fatheduc  motheduc  parity  male  white  \\\n",
       "0    13.5    16.5     122.3    109      12.0      12.0       1     1      1   \n",
       "1     7.5    16.5     122.3    133       6.0      12.0       2     1      0   \n",
       "2     0.5    16.5     122.3    129       NaN      12.0       2     0      0   \n",
       "3    15.5    16.5     122.3    126      12.0      12.0       2     1      0   \n",
       "4    27.5    16.5     122.3    134      14.0      12.0       2     1      1   \n",
       "\n",
       "   cigs    lbwght  bwghtlbs  packs   lfaminc  \n",
       "0     0  4.691348    6.8125    0.0  2.602690  \n",
       "1     0  4.890349    8.3125    0.0  2.014903  \n",
       "2     0  4.859812    8.0625    0.0 -0.693147  \n",
       "3     0  4.836282    7.8750    0.0  2.740840  \n",
       "4     0  4.897840    8.3750    0.0  3.314186  "
      ]
     },
     "execution_count": 30,
     "metadata": {},
     "output_type": "execute_result"
    }
   ],
   "source": [
    "df = pd.read_csv(\"C:/Users/shaur/Desktop/UTD/PDS/Assignments/BWGHT.csv\")\n",
    "df.head()"
   ]
  },
  {
   "cell_type": "code",
   "execution_count": 31,
   "metadata": {},
   "outputs": [
    {
     "data": {
      "text/plain": [
       "array([111.5923058 ,  -5.06396699,   3.18048888])"
      ]
     },
     "execution_count": 31,
     "metadata": {},
     "output_type": "execute_result"
    }
   ],
   "source": [
    "df['(intercept)'] = 1\n",
    "x = df[['(intercept)','cigs','faminc']]\n",
    "y = df['bwght']\n",
    "b = np.linalg.solve(x.T@x,x.T@y)\n",
    "e = y-x@b\n",
    "vb = e.var()*np.linalg.inv(x.T@x)\n",
    "se = np.sqrt(np.diagonal(vb))\n",
    "tstat = b/se\n",
    "tstat"
   ]
  },
  {
   "cell_type": "code",
   "execution_count": 33,
   "metadata": {},
   "outputs": [],
   "source": [
    "import scipy.stats as sps\n",
    "\n",
    "class linear_model:\n",
    "    def __init__(self,x,y):\n",
    "        self.x = x\n",
    "        self.y = y\n",
    "        self.b = np.linalg.solve(x.T@x,x.T@y)\n",
    "        e = y-x@self.b\n",
    "        self.vb = self.vcov_b(e)\n",
    "        self.se = np.sqrt(np.diagonal(self.vb))\n",
    "        self.t = self.b/self.se\n",
    "        self.p = 2*sps.norm.cdf(-np.abs(self.t))\n",
    "        self.rsq = 1-e.var()/y.var()\n",
    "    def vcov_b(self,e):\n",
    "        x = self.x\n",
    "        return e.var()*np.linalg.inv(x.T@x)\n",
    "\n",
    "class white(linear_model):\n",
    "    def vcov_b(self,e):\n",
    "        x = self.x\n",
    "        meat = np.diagflat(e.values**2)\n",
    "        bread = np.linalg.solve(x.T@x,x.T)\n",
    "        sandwich = bread@meat@bread.T\n",
    "        return sandwich\n",
    "        \n",
    "class newey(linear_model):\n",
    "    def omega(self):\n",
    "        x = self.x\n",
    "        m_0 = np.diagflat([np.average(e.values**2)]*len(e))\n",
    "        m_n1 = np.zeros(len(e)-1)\n",
    "        for i in range(0, len(e)-1):\n",
    "            m_n1[i] = e[i]*e[i+1]\n",
    "        \n",
    "        m_1 = np.diagflat([np.sum(m_n1)/len(e)]*(len(e)-1), 1)\n",
    "        m_2 = np.diagflat([np.sum(m_n1)/len(e)]*(len(e)-1), -1)\n",
    "        m_n = m_2 + m_0 + m_1\n",
    "        k = np.linalg.inv(x.T@x)\n",
    "        var_k = k@x.T@m_n@x@k\n",
    "        se_nw = np.sqrt(np.diagonal(var_k))\n",
    "        tstat_nw = self.b/se_nw\n",
    "        return tstat_nw"
   ]
  },
  {
   "cell_type": "code",
   "execution_count": 34,
   "metadata": {},
   "outputs": [
    {
     "data": {
      "text/plain": [
       "array([110.30765407,  -5.05943423,   3.1753672 ])"
      ]
     },
     "execution_count": 34,
     "metadata": {},
     "output_type": "execute_result"
    }
   ],
   "source": [
    "newey(x,y).omega()"
   ]
  },
  {
   "cell_type": "code",
   "execution_count": null,
   "metadata": {},
   "outputs": [],
   "source": []
  }
 ],
 "metadata": {
  "kernelspec": {
   "display_name": "commonlit",
   "language": "python",
   "name": "python3"
  },
  "language_info": {
   "codemirror_mode": {
    "name": "ipython",
    "version": 3
   },
   "file_extension": ".py",
   "mimetype": "text/x-python",
   "name": "python",
   "nbconvert_exporter": "python",
   "pygments_lexer": "ipython3",
   "version": "3.9.17"
  },
  "orig_nbformat": 4
 },
 "nbformat": 4,
 "nbformat_minor": 2
}
