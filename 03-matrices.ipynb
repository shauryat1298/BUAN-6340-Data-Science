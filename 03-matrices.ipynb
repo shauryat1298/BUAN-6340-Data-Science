{
 "cells": [
  {
   "cell_type": "markdown",
   "metadata": {},
   "source": [
    "<div style=\"text-align:center\"><span style=\"font-size:2em; font-weight: bold;\">Lecture 3—Matrices</span></div>"
   ]
  },
  {
   "cell_type": "markdown",
   "metadata": {},
   "source": [
    "# Data Science: Matrix calculus\n",
    "\n",
    "## Matrix calculus\n",
    "### Types\n",
    "We only care about matrix differentiation. To understand matrix derivatives, you need to recognize that their are various possibilities. These cases can be defined by the intersection of two possible things: generalizing the derivative operator from being a scalar to being a vector or matrix and generalizing the quantity the operator is acting on from being a scalar to being a vector or matrix. We are not going to consider matrix operators or operands. These are just unnecessary for our purposes. We only care about vectors. The operator can be a vector and the operand can be a vector. This is enough generalization for us. If the operator is a vector and the operand is a vector, then the output will be a matrix.  \n",
    "### Basic rules\t\n",
    "Doing calculus with matrices requires applying various known solutions. These can be verified and proven mathematically but that is not necessary for our purposes. We only need to know the rules. The first is that the derivative applies directly to sums just like a normal univariate derivative:\n",
    "$$\\frac{d}{dx}\\left(f(x)+g(x)\\right)=\\frac{d}{dx}f(x)+\\frac{d}{dx}g(x)$$\n",
    "The second rule is that linear terms have simple constant derivatives:\n",
    "$$\\frac{d}{dx}A'x=\\frac{d}{dx}x'A=A$$\n",
    "Our third and final basic rule is that quadratic forms become linear terms like so:\n",
    "$$\\frac{d}{dx}x'Ax=2Ax$$\n",
    "### Advanced rules\n",
    "We don't need these rules for deriving OLS, but we might need these two rules in future. The first rule is the product rule for matrices. This is something like the univariate product rule, but it's somewhat different:\n",
    "$$\\frac{d}{dx}f(x)'g(x)=\\left(\\frac{d}{dx}g(x)'\\right)f(x)+\\left(\\frac{d}{dx}f(x)'\\right)g(x)$$\n",
    "The second rule is the chain rule. It's basically the same as the chain rule you already know:\n",
    "$$\\frac{d}{dx}f(g(x))=\\frac{dg}{dx}\\text{diag}\\left(\\frac{df}{dg}\\Big\\vert_{g(x)}\\right)$$\n",
    "### Application: Derivation of OLS\n",
    "Consider the usual linear equation for OLS: $y=\\mathbf X\\beta +e$. Our goal is to find the $\\beta$ value which solves the following problem: $\\min_\\beta e'e$. To do this, we need to revise the goal to be in terms of the $\\beta$ values:\n",
    "$$\\begin{align}\n",
    "e'e&=(y-\\mathbf X\\beta)'(y-\\mathbf X\\beta)\\\\\n",
    "&=y'y-y'\\mathbf X\\beta-\\beta'\\mathbf X'y+\n",
    "\\beta'\n",
    "\\mathbf X'\\mathbf X\\beta\n",
    "\\end{align}$$\n",
    "Now we are ready to take the first derivative applying our matrix calculus formulas:\n",
    "$$\\frac{d}{d\\beta}e'e=\\mathbf 0-\\mathbf X'y-\\mathbf X'y+2\\mathbf X'\\mathbf X\\beta$$\n",
    "From here, we can set this derivative equal to $0$\n",
    "$$-\\mathbf X'y+\\mathbf X'\\mathbf X\\beta=0$$\n",
    "Now we solve for $\\beta$:\n",
    "$$\\beta=\\left(\\mathbf X'\\mathbf X\\right)^{-1}\\mathbf X'y$$\n",
    "So $\\hat\\beta=\\left(\\mathbf X'\\mathbf X\\right)^{-1}\\mathbf X'y$\n",
    "        "
   ]
  },
  {
   "cell_type": "markdown",
   "metadata": {},
   "source": [
    "# Programming: Linear algebra packages\n",
    "\n",
    "Numpy\n",
    "\n",
    "* [Introduction to NumPy](lec3files/02.00-Introduction-to-NumPy.ipynb)\n",
    "* [Understanding Data Types](lec3files/02.01-Understanding-Data-Types.ipynb)\n",
    "* [The Basics Of NumPy Arrays](lec3files/02.02-The-Basics-Of-NumPy-Arrays.ipynb)\n",
    "* [Computation on arrays aggregates](lec3files/02.04-Computation-on-arrays-aggregates.ipynb)\n",
    "* [Computation on arrays broadcasting](lec3files/02.05-Computation-on-arrays-broadcasting.ipynb)\n",
    "* [Boolean Arrays and Masks](lec3files/02.06-Boolean-Arrays-and-Masks.ipynb)\n",
    "* [Fancy Indexing](lec3files/02.07-Fancy-Indexing.ipynb)\n",
    "* [Sorting](lec3files/02.08-Sorting.ipynb)\n",
    "\n",
    "Matplotlib\n",
    "\n",
    "* [Introduction To Matplotlib](lec3files/04.00-Introduction-To-Matplotlib.ipynb)\n",
    "* [Simple Line Plots](lec3files/04.01-Simple-Line-Plots.ipynb)\n",
    "* [Simple Scatter Plots](lec3files/04.02-Simple-Scatter-Plots.ipynb)\n",
    "* [Density and Contour Plots](lec3files/04.04-Density-and-Contour-Plots.ipynb)\n",
    "* [Histograms and Binnings](lec3files/04.05-Histograms-and-Binnings.ipynb)\n",
    "* [Three Dimensional Plotting](lec3files/04.12-Three-Dimensional-Plotting.ipynb)\n",
    "* [Visualization With Seaborn](lec3files/04.14-Visualization-With-Seaborn.ipynb)\n",
    "* [Further Resources](lec3files/04.15-Further-Resources.ipynb)"
   ]
  },
  {
   "cell_type": "code",
   "execution_count": 1,
   "metadata": {
    "ExecuteTime": {
     "end_time": "2023-02-10T23:31:11.449832Z",
     "start_time": "2023-02-10T23:31:11.444301Z"
    }
   },
   "outputs": [
    {
     "data": {
      "text/plain": [
       "array([15, 12,  9, 11,  7,  8,  6,  6,  9, 12])"
      ]
     },
     "execution_count": 1,
     "metadata": {},
     "output_type": "execute_result"
    }
   ],
   "source": [
    "import numpy as np\n",
    "\n",
    "x = np.random.poisson(lam=2,size=(10,5))\n",
    "x.sum(1)"
   ]
  },
  {
   "cell_type": "code",
   "execution_count": 2,
   "metadata": {
    "ExecuteTime": {
     "end_time": "2023-02-10T23:36:52.116315Z",
     "start_time": "2023-02-10T23:36:52.108378Z"
    }
   },
   "outputs": [],
   "source": [
    "n = 1000\n",
    "x = np.random.normal(size=(n,2)) # mu=0;sigma=1\n",
    "e = np.random.normal(size=(n,1))\n",
    "ones = np.ones((n,1))\n",
    "x = np.hstack([ones,x])\n",
    "b = np.array([1,2,0]).reshape(-1,1)\n",
    "y = x@b + e\n",
    "#y = 1+2x_1+0x_2+e"
   ]
  },
  {
   "cell_type": "code",
   "execution_count": 3,
   "metadata": {
    "ExecuteTime": {
     "end_time": "2023-02-10T23:39:33.801157Z",
     "start_time": "2023-02-10T23:39:33.796173Z"
    }
   },
   "outputs": [
    {
     "data": {
      "text/plain": [
       "array([[0.98524536],\n",
       "       [2.08221923],\n",
       "       [0.02154021]])"
      ]
     },
     "execution_count": 3,
     "metadata": {},
     "output_type": "execute_result"
    }
   ],
   "source": [
    "# b = (x'x)^{-1} x'y\n",
    "xx = x.T@x\n",
    "xy = x.T@y\n",
    "#b = np.linalg.inv(xx)@xy\n",
    "b = np.linalg.solve(xx,xy)\n",
    "# Solve: Ax=y  x=A^{-1}y\n",
    "b"
   ]
  },
  {
   "cell_type": "code",
   "execution_count": 4,
   "metadata": {
    "ExecuteTime": {
     "end_time": "2023-02-10T23:40:26.550905Z",
     "start_time": "2023-02-10T23:40:26.543161Z"
    }
   },
   "outputs": [
    {
     "data": {
      "text/plain": [
       "array([[0.98524536],\n",
       "       [2.08221923],\n",
       "       [0.02154021]])"
      ]
     },
     "execution_count": 4,
     "metadata": {},
     "output_type": "execute_result"
    }
   ],
   "source": [
    "np.linalg.solve(x.T@x,x.T@y)"
   ]
  },
  {
   "cell_type": "code",
   "execution_count": 5,
   "metadata": {
    "ExecuteTime": {
     "end_time": "2023-02-10T23:41:09.627906Z",
     "start_time": "2023-02-10T23:41:09.616888Z"
    }
   },
   "outputs": [
    {
     "data": {
      "text/plain": [
       "1.0100087165905653"
      ]
     },
     "execution_count": 5,
     "metadata": {},
     "output_type": "execute_result"
    }
   ],
   "source": [
    "res= y-x@b\n",
    "res.var()"
   ]
  },
  {
   "cell_type": "code",
   "execution_count": 6,
   "metadata": {
    "ExecuteTime": {
     "end_time": "2023-02-10T23:41:40.613902Z",
     "start_time": "2023-02-10T23:41:40.595320Z"
    }
   },
   "outputs": [
    {
     "data": {
      "text/plain": [
       "0.8085592271419608"
      ]
     },
     "execution_count": 6,
     "metadata": {},
     "output_type": "execute_result"
    }
   ],
   "source": [
    "res = y-x@b\n",
    "rsq = 1-res.var()/y.var()\n",
    "rsq"
   ]
  },
  {
   "cell_type": "markdown",
   "metadata": {},
   "source": [
    "# Programming challenges\t\n",
    "## Pairwise combination matrix\n",
    "\n",
    "I call the following matrix the pairwise combination matrix of order $4$:\n",
    "\n",
    "$$\n",
    "\\begin{bmatrix}\n",
    "1 & 1 & 0 & 0 \\\\\n",
    "1 & 0 & 1 & 0 \\\\\n",
    "1 & 0 & 0 & 1 \\\\\n",
    "0 & 1 & 1 & 0 \\\\\n",
    "0 & 1 & 0 & 1 \\\\\n",
    "0 & 0 & 1 & 1 \\\\\n",
    "\\end{bmatrix}\n",
    "$$\n",
    "\n",
    "Notice that each line contains exactly two ones. This should be true of any pairwise combination matrix. Write a function which creates the pairwise combination matrix of order $n$.\n"
   ]
  },
  {
   "cell_type": "markdown",
   "metadata": {},
   "source": [
    "$$\n",
    "\\begin{bmatrix}\n",
    "1 & 1 & 0 & 0 & 0 \\\\\n",
    "1 & 0 & 1 & 0 & 0 \\\\\n",
    "1 & 0 & 0 & 1 & 0 \\\\\n",
    "1 & 0 & 0 & 0 & 1 \\\\\n",
    "0 & 1 & 1 & 0 & 0 \\\\\n",
    "0 & 1 & 0 & 1 & 0 \\\\\n",
    "0 & 1 & 0 & 0 & 1 \\\\\n",
    "0 & 0 & 1 & 1 & 0 \\\\\n",
    "0 & 0 & 1 & 0 & 1 \\\\\n",
    "0 & 0 & 0 & 1 & 1 \\\\\n",
    "\\end{bmatrix}\n",
    "$$"
   ]
  },
  {
   "cell_type": "markdown",
   "metadata": {},
   "source": [
    "$$\n",
    "\\begin{bmatrix}\n",
    "1 & 1 & 0 \\\\\n",
    "1 & 0 & 1 \\\\\n",
    "0 & 1 & 1 \\\\\n",
    "\\end{bmatrix}\n",
    "$$"
   ]
  },
  {
   "cell_type": "markdown",
   "metadata": {
    "ExecuteTime": {
     "end_time": "2022-02-02T00:21:43.311606Z",
     "start_time": "2022-02-02T00:21:43.304606Z"
    }
   },
   "source": [
    "$$\n",
    "\\begin{bmatrix}\n",
    "1 & 1 \\\\\n",
    "\\end{bmatrix}\n",
    "$$"
   ]
  },
  {
   "cell_type": "code",
   "execution_count": 24,
   "metadata": {},
   "outputs": [],
   "source": [
    "n=5\n",
    "a = np.zeros(shape=(n*(n-1)//2,n))"
   ]
  },
  {
   "cell_type": "code",
   "execution_count": 25,
   "metadata": {},
   "outputs": [],
   "source": [
    "row_in = 0\n",
    "main_col_in = 0\n",
    "\n",
    "while row_in<len(a):\n",
    "    col_in = main_col_in+1\n",
    "\n",
    "    while col_in < len(a[0]):\n",
    "        a[row_in, main_col_in] = 1\n",
    "        \n",
    "        a[row_in, col_in] = 1\n",
    "        col_in+=1\n",
    "        row_in+=1\n",
    "\n",
    "    main_col_in+=1\n",
    "\n"
   ]
  },
  {
   "cell_type": "code",
   "execution_count": 26,
   "metadata": {},
   "outputs": [
    {
     "data": {
      "text/plain": [
       "array([[1., 1., 0., 0., 0.],\n",
       "       [1., 0., 1., 0., 0.],\n",
       "       [1., 0., 0., 1., 0.],\n",
       "       [1., 0., 0., 0., 1.],\n",
       "       [0., 1., 1., 0., 0.],\n",
       "       [0., 1., 0., 1., 0.],\n",
       "       [0., 1., 0., 0., 1.],\n",
       "       [0., 0., 1., 1., 0.],\n",
       "       [0., 0., 1., 0., 1.],\n",
       "       [0., 0., 0., 1., 1.]])"
      ]
     },
     "execution_count": 26,
     "metadata": {},
     "output_type": "execute_result"
    }
   ],
   "source": [
    "a"
   ]
  },
  {
   "cell_type": "markdown",
   "metadata": {},
   "source": [
    "## Cantor-Lebesgue CDF\n",
    "\n",
    "Write a program that shows the Cantor-Lebesgue CDF."
   ]
  },
  {
   "cell_type": "code",
   "execution_count": 1,
   "metadata": {},
   "outputs": [],
   "source": [
    "def cantor(x, left_bound=0, right_bound=1, level=1, v_offset=0):\n",
    "    division = (right_bound-left_bound)/3\n",
    "    if level>50: return 1/2**level + v_offset\n",
    "    if x<left_bound+division:\n",
    "        return cantor(x, left_bound, left_bound+division, level+1, v_offset)\n",
    "    elif x<left_bound+2*division:\n",
    "        return 1/2**level + v_offset\n",
    "    else:\n",
    "        return cantor(x, left_bound+2*division, right_bound, level+1, v_offset+1/2**level)"
   ]
  },
  {
   "cell_type": "code",
   "execution_count": 4,
   "metadata": {},
   "outputs": [
    {
     "data": {
      "image/png": "[encoded data removed]",
      "text/plain": [
       "<Figure size 640x480 with 1 Axes>"
      ]
     },
     "metadata": {},
     "output_type": "display_data"
    }
   ],
   "source": [
    "import matplotlib.pyplot as plt\n",
    "import numpy as np\n",
    "\n",
    "x=np.linspace(0,1,1000)\n",
    "y=x.copy()\n",
    "\n",
    "for i in range(len(y)):\n",
    "    y[i]=cantor(y[i])\n",
    "plt.plot(x,y)\n",
    "plt.show()"
   ]
  },
  {
   "cell_type": "markdown",
   "metadata": {},
   "source": [
    "## Beta GMM\n",
    "\n",
    "Write an estimator for the beta distribution parameters using the generalized method of moments. That is, suppose that you estimate the mean and variance of the data. Then equate the mean and variance to $\\alpha$ and $\\beta$ using the beta distribution formulas from wikipedia:\n",
    "\n",
    "$$\\bar x = \\frac{\\alpha}{\\alpha+\\beta}$$\n",
    "$$s_x^2= \\frac{\\alpha\\beta}{(\\alpha+\\beta)^2 (\\alpha+\\beta+1)}$$\n",
    "\n",
    "then solve for $\\alpha$ and $\\beta$."
   ]
  },
  {
   "cell_type": "markdown",
   "metadata": {},
   "source": [
    "$$ \\alpha = \\bar x \\left( \\frac{\\bar x(1-\\bar x)-s_x^2}{s_x^2} \\right) $$\n",
    "$$ \\beta = (1-\\bar x) \\left( \\frac{\\bar x(1-\\bar x)-s_x^2}{s_x^2} \\right) $$"
   ]
  },
  {
   "cell_type": "code",
   "execution_count": 30,
   "metadata": {
    "ExecuteTime": {
     "end_time": "2023-02-17T22:25:46.608646Z",
     "start_time": "2023-02-17T22:25:46.599265Z"
    }
   },
   "outputs": [],
   "source": [
    "n = 1000\n",
    "x = np.random.beta(a=3,b=1,size=(n,))"
   ]
  }
 ],
 "metadata": {
  "kernelspec": {
   "display_name": "Python 3 (ipykernel)",
   "language": "python",
   "name": "python3"
  },
  "language_info": {
   "codemirror_mode": {
    "name": "ipython",
    "version": 3
   },
   "file_extension": ".py",
   "mimetype": "text/x-python",
   "name": "python",
   "nbconvert_exporter": "python",
   "pygments_lexer": "ipython3",
   "version": "3.9.17"
  },
  "toc": {
   "base_numbering": 1,
   "nav_menu": {},
   "number_sections": true,
   "sideBar": true,
   "skip_h1_title": false,
   "title_cell": "Table of Contents",
   "title_sidebar": "Contents",
   "toc_cell": false,
   "toc_position": {},
   "toc_section_display": true,
   "toc_window_display": false
  },
  "varInspector": {
   "cols": {
    "lenName": 16,
    "lenType": 16,
    "lenVar": 40
   },
   "kernels_config": {
    "python": {
     "delete_cmd_postfix": "",
     "delete_cmd_prefix": "del ",
     "library": "var_list.py",
     "varRefreshCmd": "print(var_dic_list())"
    },
    "r": {
     "delete_cmd_postfix": ") ",
     "delete_cmd_prefix": "rm(",
     "library": "var_list.r",
     "varRefreshCmd": "cat(var_dic_list()) "
    }
   },
   "types_to_exclude": [
    "module",
    "function",
    "builtin_function_or_method",
    "instance",
    "_Feature"
   ],
   "window_display": false
  }
 },
 "nbformat": 4,
 "nbformat_minor": 2
}
