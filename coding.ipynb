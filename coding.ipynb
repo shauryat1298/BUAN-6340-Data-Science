{
 "cells": [
  {
   "cell_type": "code",
   "execution_count": 9,
   "metadata": {},
   "outputs": [
    {
     "name": "stdout",
     "output_type": "stream",
     "text": [
      "* \n",
      "* * \n",
      "* * * \n",
      "* * * * \n",
      "* * * * * \n",
      "* * * * * * \n",
      "* * * * * * * \n",
      "* * * * * * * * \n",
      "* * * * * * * * * \n",
      "* * * * * * * * * * \n",
      "* * * * * * * * * * * \n",
      "* * * * * * * * * * * * \n",
      "* * * * * * * * * * * * * \n",
      "* * * * * * * * * * * * * * \n",
      "* * * * * * * * * * * * * * * \n",
      "* * * * * * * * * * * * * * * * \n",
      "* * * * * * * * * * * * * * * * * \n",
      "* * * * * * * * * * * * * * * * * * \n",
      "* * * * * * * * * * * * * * * * * * * \n",
      "* * * * * * * * * * * * * * * * * * * * \n",
      "* * * * * * * * * * * * * * * * * * * * * \n",
      "* * * * * * * * * * * * * * * * * * * * * * \n",
      "* * * * * * * * * * * * * * * * * * * * * * * \n",
      "* * * * * * * * * * * * * * * * * * * * * * * * \n",
      "* * * * * * * * * * * * * * * * * * * * * * * * * \n"
     ]
    }
   ],
   "source": [
    "n=25\n",
    "for i in range(n):\n",
    "    j=0\n",
    "    while j<i+1:\n",
    "        print(\"*\", end=\" \")\n",
    "        j+=1\n",
    "    print()"
   ]
  },
  {
   "cell_type": "code",
   "execution_count": 1,
   "metadata": {},
   "outputs": [
    {
     "name": "stdout",
     "output_type": "stream",
     "text": [
      "[[1, 1, 2], [1, 2, 0], [1, 3, 5], [1, 4, 0], [1, 5, 8], [1, 6, 0], [1, 7, 11], [1, 8, 0], [1, 9, 14], [1, 10, 0], [2, 1, 0], [2, 2, 3], [2, 3, 0], [2, 4, 0], [2, 5, 0], [2, 6, 7], [2, 7, 0], [2, 8, 0], [2, 9, 0], [2, 10, 11], [3, 1, 3], [3, 2, 0], [3, 3, 3], [3, 4, 0], [3, 5, 21], [3, 6, 0], [3, 7, 9], [3, 8, 0], [3, 9, 3], [3, 10, 0], [4, 1, 0], [4, 2, 0], [4, 3, 0], [4, 4, 4], [4, 5, 0], [4, 6, 0], [4, 7, 0], [4, 8, 0], [4, 9, 0], [4, 10, 0], [5, 1, 20], [5, 2, 0], [5, 3, 23], [5, 4, 0], [5, 5, 9], [5, 6, 0], [5, 7, 46], [5, 8, 0], [5, 9, 28], [5, 10, 0], [6, 1, 0], [6, 2, 4], [6, 3, 0], [6, 4, 0], [6, 5, 0], [6, 6, 4], [6, 7, 0], [6, 8, 0], [6, 9, 0], [6, 10, 23], [7, 1, 4], [7, 2, 0], [7, 3, 4], [7, 4, 0], [7, 5, 18], [7, 6, 0], [7, 7, 4], [7, 8, 0], [7, 9, 9], [7, 10, 0], [8, 1, 0], [8, 2, 0], [8, 3, 0], [8, 4, 0], [8, 5, 0], [8, 6, 0], [8, 7, 0], [8, 8, 5], [8, 9, 0], [8, 10, 0], [9, 1, 0], [9, 2, 0], [9, 3, 0], [9, 4, 0], [9, 5, 0], [9, 6, 0], [9, 7, 5], [9, 8, 0], [9, 9, 0], [9, 10, 0], [10, 1, 0], [10, 2, 22], [10, 3, 0], [10, 4, 0], [10, 5, 0], [10, 6, 26], [10, 7, 0], [10, 8, 0], [10, 9, 0], [10, 10, 10]]\n"
     ]
    }
   ],
   "source": [
    "def validation(x,a,b):\n",
    "    steps = 1\n",
    "    start = x\n",
    "    set1 = set()\n",
    "    while x not in set1:\n",
    "        steps += 1\n",
    "        set1.add(x)\n",
    "        if x % 2 == 0:\n",
    "            x = x//2 \n",
    "        else:\n",
    "            x = a*x + b \n",
    "        if steps == 100: \n",
    "           break\n",
    "    if x == start:\n",
    "        return True\n",
    "    else:\n",
    "        return False\n",
    "def hailstone(number):\n",
    "    List = []\n",
    "    for i in range(1,11):\n",
    "        for j in range(1,11):\n",
    "            count = 0\n",
    "            for x in range(1, number+1):\n",
    "                if (((i%2 != 0 ) and (j%2 == 0)) or ((i%2 == 0 ) and (j%2 != 0))): \n",
    "                    break\n",
    "                else:\n",
    "                    if validation(x,i,j): #calling 'validation' to check if it is true \n",
    "                       count += 1\n",
    "        \n",
    "            List.append([i,j,count])\n",
    "      \n",
    "    return(List)\n",
    "\n",
    "pattern_count = hailstone(number = 100)\n",
    "print(pattern_count)"
   ]
  },
  {
   "cell_type": "code",
   "execution_count": 2,
   "metadata": {},
   "outputs": [
    {
     "data": {
      "text/plain": [
       "368"
      ]
     },
     "execution_count": 2,
     "metadata": {},
     "output_type": "execute_result"
    }
   ],
   "source": [
    "sum=0\n",
    "for j in pattern_count:\n",
    "    sum+= j[-1]\n",
    "sum"
   ]
  },
  {
   "cell_type": "code",
   "execution_count": null,
   "metadata": {},
   "outputs": [],
   "source": []
  }
 ],
 "metadata": {
  "kernelspec": {
   "display_name": "commonlit",
   "language": "python",
   "name": "python3"
  },
  "language_info": {
   "codemirror_mode": {
    "name": "ipython",
    "version": 3
   },
   "file_extension": ".py",
   "mimetype": "text/x-python",
   "name": "python",
   "nbconvert_exporter": "python",
   "pygments_lexer": "ipython3",
   "version": "3.9.17"
  },
  "orig_nbformat": 4
 },
 "nbformat": 4,
 "nbformat_minor": 2
}
