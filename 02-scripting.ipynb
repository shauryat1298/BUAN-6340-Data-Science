{
 "cells": [
  {
   "cell_type": "markdown",
   "metadata": {},
   "source": [
    "<div style=\"text-align:center\"><span style=\"font-size:2em; font-weight: bold;\">Lecture 2—Scripting</span></div>"
   ]
  },
  {
   "cell_type": "markdown",
   "metadata": {},
   "source": [
    "## Programming: Libraries\n",
    "\n",
    "Source: **Clean Python: Elegant Coding in Python** Sunil Kapil Apress 2019 (available through O'Reilly Safari)\n",
    "\n",
    "**collections**\n",
    "\n",
    "This is one of the most widely used libraries and has useful data structures, specifically namedtuple, defaultdict, and orderddict.\n",
    "\n",
    "**csv**\n",
    "\n",
    "Use csv for reading and writing CSV files. It will save you lot of time instead of writing your own methods while reading files.\n",
    "\n",
    "**datetime and time**\n",
    "\n",
    "These are without a doubt two of the most used libraries. In fact, you have probably already encountered them. If not, getting familiar with the different methods available in these libraries is beneficial in different scenarios, especially when you are working with timing issues.\n",
    "\n",
    "~~**math**~~\n",
    "\n",
    "~~The math lib has lots of useful methods to perform basic to advanced math computations. Before looking for a third-party library to solve math problems, try to see whether this library already has them.~~\n",
    "\n",
    "**re**\n",
    "\n",
    "There is no substitute for this library that can solve problems using regular expressions. In fact, re is one of the best libraries in the Python language. If you know regular expressions well, you can create magic using the re library. It gives you the power to perform some of the more difficult operations easily using regular expressions.\n",
    "\n",
    "~~**tempfile**~~\n",
    "\n",
    "~~Consider this a one-off library to create temporary files. It’s a good built-in library.~~\n",
    "\n",
    "**itertools**\n",
    "\n",
    "Some of the most useful tools in this library are permutations and combinations. However, if you explore it more, you will find that you can solve a lot of computation problems using itertools . It has some of the useful functions such as dropwhile, product, chain, and islice.\n",
    "\n",
    "**functools**\n",
    "\n",
    "If you are developer who loves functional programming, this library is for you. It has lots of functions that will help you to think of your code in a more functional way. One of the most used partials is in this library.\n",
    "\n",
    "**sys** and **os**\n",
    "\n",
    "Use these libraries when you want to perform any specific system- or OS-level operations. sys and os give you the power to do a lot of amazing things with your system.\n",
    "\n",
    "**subprocess**\n",
    "\n",
    "This library helps you to create multiple processes on your system without much effort. The library is easy to use, and it creates multiple processes and handles them using multiple methods.\n",
    "\n",
    "~~*logging**~~\n",
    "\n",
    "~~No big project could be successful without a good logging feature. The logging library from Python helps you to easily add logging in your system. It has different ways to spit out logs such as the console, files, and the network.~~\n",
    "\n",
    "**json**\n",
    "\n",
    "JSON is the de facto standard for passing information over a network and for APIs. The json library from Python does a great job of handling different scenarios. The json library interface is easy to use, and the documentation is pretty good.\n",
    "\n",
    "**pickle**\n",
    "\n",
    "You might not use it in daily coding, but whenever you need to serialize and deserialize a Python object, there is no better library than pickle .\n",
    "\n",
    "~~**\\_\\_future\\_\\_**~~\n",
    "\n",
    "~~This is a pseudomodule that enables new language features that are not compatible with the current interpreter. So, you might want to consider using them in your code where you want to use a future version.~~"
   ]
  },
  {
   "cell_type": "markdown",
   "metadata": {},
   "source": [
    "### Example: Using csv"
   ]
  },
  {
   "cell_type": "code",
   "execution_count": 1,
   "metadata": {
    "ExecuteTime": {
     "end_time": "2023-01-27T22:58:48.681395Z",
     "start_time": "2023-01-27T22:58:48.659679Z"
    }
   },
   "outputs": [
    {
     "name": "stdout",
     "output_type": "stream",
     "text": [
      "C:\\Users\\shaur\n"
     ]
    }
   ],
   "source": [
    "cd"
   ]
  },
  {
   "cell_type": "code",
   "execution_count": 2,
   "metadata": {
    "ExecuteTime": {
     "end_time": "2023-01-27T22:59:12.138423Z",
     "start_time": "2023-01-27T22:59:12.122178Z"
    }
   },
   "outputs": [
    {
     "name": "stdout",
     "output_type": "stream",
     "text": [
      "C:\\Users\\shaur\\OneDrive\\Desktop\\UTD Work\\Sem 3\\PDS\\jupyter notebooks\n"
     ]
    }
   ],
   "source": [
    "cd C:/Users/shaur/OneDrive/Desktop/UTD Work/Sem 3/PDS/jupyter notebooks"
   ]
  },
  {
   "cell_type": "code",
   "execution_count": null,
   "metadata": {},
   "outputs": [],
   "source": []
  },
  {
   "cell_type": "code",
   "execution_count": 3,
   "metadata": {
    "ExecuteTime": {
     "end_time": "2023-01-27T23:02:26.071568Z",
     "start_time": "2023-01-27T23:02:26.060088Z"
    }
   },
   "outputs": [
    {
     "name": "stdout",
     "output_type": "stream",
     "text": [
      "['faminc', 'cigtax', 'cigprice', 'bwght', 'fatheduc', 'motheduc', 'parity', 'male', 'white', 'cigs', 'lbwght', 'bwghtlbs', 'packs', 'lfaminc']\n",
      "['13.5', '16.5', '122.3', '109', '12', '12', '1', '1', '1', '0', '4.691348', '6.8125', '0', '2.60269']\n",
      "['7.5', '16.5', '122.3', '133', '6', '12', '2', '1', '0', '0', '4.890349', '8.3125', '0', '2.014903']\n",
      "['.5', '16.5', '122.3', '129', '', '12', '2', '0', '0', '0', '4.859812', '8.0625', '0', '-.6931472']\n",
      "['15.5', '16.5', '122.3', '126', '12', '12', '2', '1', '0', '0', '4.836282', '7.875', '0', '2.74084']\n"
     ]
    }
   ],
   "source": [
    "#import csv # give us access to csv functions\n",
    "from csv import reader\n",
    "\n",
    "file = open('BWGHT.csv')  # open a file BWGHT.csv\n",
    "readr = reader(file) # make a reader for the file using a custom function from the csv package\n",
    "for i in range(5):        # we are going to read 5 lines\n",
    "    print(next(readr))   # next() moves through the file and returns a list of each item in the line\n",
    "file.close()              # close the file when done"
   ]
  },
  {
   "cell_type": "markdown",
   "metadata": {},
   "source": [
    "Now that we have called import, we have access to those functions in this notebook. This persists between cells. Equivalent to above we could have written:"
   ]
  },
  {
   "cell_type": "code",
   "execution_count": 4,
   "metadata": {
    "ExecuteTime": {
     "end_time": "2023-01-27T23:04:07.267948Z",
     "start_time": "2023-01-27T23:04:07.254610Z"
    }
   },
   "outputs": [
    {
     "name": "stdout",
     "output_type": "stream",
     "text": [
      "['faminc', 'cigtax', 'cigprice', 'bwght', 'fatheduc', 'motheduc', 'parity', 'male', 'white', 'cigs', 'lbwght', 'bwghtlbs', 'packs', 'lfaminc']\n",
      "['13.5', '16.5', '122.3', '109', '12', '12', '1', '1', '1', '0', '4.691348', '6.8125', '0', '2.60269']\n",
      "['7.5', '16.5', '122.3', '133', '6', '12', '2', '1', '0', '0', '4.890349', '8.3125', '0', '2.014903']\n",
      "['.5', '16.5', '122.3', '129', '', '12', '2', '0', '0', '0', '4.859812', '8.0625', '0', '-.6931472']\n",
      "['15.5', '16.5', '122.3', '126', '12', '12', '2', '1', '0', '0', '4.836282', '7.875', '0', '2.74084']\n",
      "the file is closed\n"
     ]
    }
   ],
   "source": [
    "import csv \n",
    "\n",
    "# with command as variable_name:  \n",
    "with open('BWGHT.csv') as filename:  # this will close the file automatically preventing potential errors\n",
    "    reader = csv.reader(filename)\n",
    "    for i in range(5):\n",
    "        print(next(reader)) \n",
    "print('the file is closed')"
   ]
  },
  {
   "cell_type": "code",
   "execution_count": 8,
   "metadata": {
    "ExecuteTime": {
     "end_time": "2023-01-27T23:04:53.776610Z",
     "start_time": "2023-01-27T23:04:53.761596Z"
    }
   },
   "outputs": [
    {
     "name": "stdout",
     "output_type": "stream",
     "text": [
      "faminc,cigtax,cigprice,bwght,fatheduc,motheduc,parity,male,white,cigs,lbwght,bwghtlbs,packs,lfaminc\n",
      "13.5,16.5,122.3,109,12,12,1,1,1,0,4.691348,6.8125,0,2.60269\n",
      "7.5,16.5,122.3,133,6,12,2,1,0,0,4.890349,8.3125,0,2.014903\n",
      ".5,16.5,122.3,129,,12,2,0,0,0,4.859812,8.0625,0,-.6931472\n",
      "15.5,16.5,122.3,126,12,12,2,1,0,0,4.836282,7.875,0,2.74084\n"
     ]
    }
   ],
   "source": [
    "with open('BWGHT.csv') as file: \n",
    "    for i in range(5):\n",
    "        line = file.readline()\n",
    "        print(line.strip())"
   ]
  },
  {
   "cell_type": "markdown",
   "metadata": {},
   "source": [
    "## Miscellaneous: bash on Windows\n",
    "\n",
    "Windows does not have access to bash scripting capability natively. That said, we have some alternatives/ options for getting bash functionality.\n",
    "\n",
    "1. powershell\n",
    "2. Docker or virtual machines\n",
    "3. ubuntu on Windows\n",
    "4. Cygwin  (be sure to get cygrunsrv sed/gawk ssmtp ssh) (be sure to skip python and anything you can install without cygwin)\n",
    "5. Git bash"
   ]
  },
  {
   "cell_type": "markdown",
   "metadata": {},
   "source": [
    "## Topic: Scripting\n",
    "### Concepts\n",
    "#### Foundations\n",
    "##### Idea: Simple general purpose scripts chained together to make complex programs\n",
    "\n",
    "##### Benefits (if you don't see the benefits immediately, don't worry; that's normal)\n",
    "* Run programs on a fixed schedule\n",
    "* Simple multithreading for better performance time\n",
    "* Code stability/persistence\n",
    "    \n",
    "##### Tools\t\n",
    "**ls** lists files in a directory structure.\n",
    "\n",
    "**grep** looks through standard input for a particular regular expression match. If found anywhere in the line, that line is then sent to standard output (otherwise the line is caught and doesn't go anywhere).\n",
    "\n",
    "**sed/awk** are simple data tools to read particular parts of output or writing basic conditional logic.\n",
    "\n",
    "**cron** can be used to run jobs on a fixed schedule.\n",
    "\n",
    "**python** can be used to write simple or complex programs for use in/with these basic pipe command. In fact, all of these simple programs can be written in python. If you can leverage these basic tools, you can make your python code much more effective and built for much more general purposes.\n",
    "#### Python libraries\n",
    "\n",
    "**Sys** is a good library for dealing with standard input, standard output, stardard error output and commandline arguments.\n",
    "\n",
    "**os** is a good library for reading directory structures and system structure/features.\n",
    "\n",
    "**subprocess** can be used to spawn subprocesses to implement other programs and/or other python programs to create multithreading (parallelism)"
   ]
  },
  {
   "cell_type": "code",
   "execution_count": 5,
   "metadata": {},
   "outputs": [
    {
     "name": "stdout",
     "output_type": "stream",
     "text": [
      "hello\n"
     ]
    },
    {
     "ename": "Exception",
     "evalue": "The code broke",
     "output_type": "error",
     "traceback": [
      "\u001b[1;31m---------------------------------------------------------------------------\u001b[0m",
      "\u001b[1;31mException\u001b[0m                                 Traceback (most recent call last)",
      "Cell \u001b[1;32mIn[5], line 6\u001b[0m\n\u001b[0;32m      4\u001b[0m sys\u001b[39m.\u001b[39margv \u001b[39m# these are the arguments that were called \u001b[39;00m\n\u001b[0;32m      5\u001b[0m \u001b[39mprint\u001b[39m(\u001b[39m'\u001b[39m\u001b[39mhello\u001b[39m\u001b[39m'\u001b[39m) \u001b[39m# this goes to standard output\u001b[39;00m\n\u001b[1;32m----> 6\u001b[0m \u001b[39mraise\u001b[39;00m \u001b[39mException\u001b[39;00m(\u001b[39m'\u001b[39m\u001b[39mThe code broke\u001b[39m\u001b[39m'\u001b[39m) \u001b[39m# this goes to standard error\u001b[39;00m\n",
      "\u001b[1;31mException\u001b[0m: The code broke"
     ]
    }
   ],
   "source": [
    "import sys\n",
    "\n",
    "sys.stdin # this is the code from standard input\n",
    "sys.argv # these are the arguments that were called \n",
    "print('hello') # this goes to standard output\n",
    "raise Exception('The code broke') # this goes to standard error"
   ]
  },
  {
   "cell_type": "markdown",
   "metadata": {},
   "source": [
    "### Example: Poker hands simulation\n",
    "\n",
    "For the task of writing a program to count the frequencies of poker hands, I wrote the following code:"
   ]
  },
  {
   "cell_type": "code",
   "execution_count": 6,
   "metadata": {
    "ExecuteTime": {
     "end_time": "2022-01-28T23:48:27.328130Z",
     "start_time": "2022-01-28T23:43:47.747413Z"
    },
    "code_folding": [
     3,
     20
    ]
   },
   "outputs": [
    {
     "name": "stdout",
     "output_type": "stream",
     "text": [
      "{'royal': 1, 'stflush': 19, 'quad': 254, 'fullhouse': 1426, 'flush': 1968, 'straight': 3879, 'trip': 21208, 'twopair': 47470, 'pair': 422593, 'other': 501182}\n",
      "{'royal': 1, 'stflush': 19, 'quad': 254, 'fullhouse': 1426, 'flush': 1968, 'straight': 3879, 'trip': 21208, 'twopair': 47470, 'pair': 422593, 'other': 501182}\n",
      "{'royal': 1, 'stflush': 19, 'quad': 254, 'fullhouse': 1426, 'flush': 1968, 'straight': 3879, 'trip': 21208, 'twopair': 47470, 'pair': 422593, 'other': 501182}\n",
      "{'royal': 1, 'stflush': 19, 'quad': 254, 'fullhouse': 1426, 'flush': 1968, 'straight': 3879, 'trip': 21208, 'twopair': 47470, 'pair': 422593, 'other': 501182}\n",
      "{'royal': 1, 'stflush': 19, 'quad': 254, 'fullhouse': 1426, 'flush': 1968, 'straight': 3879, 'trip': 21208, 'twopair': 47470, 'pair': 422593, 'other': 501182}\n",
      "{'royal': 1, 'stflush': 19, 'quad': 254, 'fullhouse': 1426, 'flush': 1968, 'straight': 3879, 'trip': 21208, 'twopair': 47470, 'pair': 422593, 'other': 501182}\n",
      "{'royal': 1, 'stflush': 19, 'quad': 254, 'fullhouse': 1426, 'flush': 1968, 'straight': 3879, 'trip': 21208, 'twopair': 47470, 'pair': 422593, 'other': 501182}\n",
      "{'royal': 1, 'stflush': 19, 'quad': 254, 'fullhouse': 1426, 'flush': 1968, 'straight': 3879, 'trip': 21208, 'twopair': 47470, 'pair': 422593, 'other': 501182}\n",
      "15.3 s ± 199 ms per loop (mean ± std. dev. of 7 runs, 1 loop each)\n"
     ]
    }
   ],
   "source": [
    "from itertools import product\n",
    "import random\n",
    "\n",
    "def get_hand_name(suits:dict,nums:dict):\n",
    "    suitvec =   ['\\u2660','\\u2665','\\u2663','\\u2666']\n",
    "    numbervec = ['A','2','3','4','5','6','7','8','9','10','J','Q','K','A']\n",
    "    straights = [set(numbervec[i:i+5]) for i in range(10)]\n",
    "    nvals = list(nums.values())\n",
    "    nvals.sort()\n",
    "    if set(nums.keys()) in straights and len(suits)==1:\n",
    "        if set(nums.keys()) == straights[-1]: return 'royal'\n",
    "        return 'stflush'\n",
    "    if nvals[-1] >= 4: return 'quad'\n",
    "    if nvals[-1] == 3 and nvals[-2] == 2: return 'fullhouse'\n",
    "    if len(suits)==1: return 'flush'\n",
    "    if set(nums.keys()) in straights: return 'straight'\n",
    "    if nvals[-1] >= 3: return 'trip'\n",
    "    if nvals[-1] >= 2 and nvals[-2] >= 2: return 'twopair'\n",
    "    if nvals[-1] >= 2: return 'pair'\n",
    "    return 'other'\n",
    "def get_suits_and_nums(hand):\n",
    "    suits = {}\n",
    "    nums = {}\n",
    "    for card in hand:\n",
    "        suit = card[0]\n",
    "        num = card[1:]\n",
    "        suits[suit] = 1+suits[suit] if suit in suits.keys() else 1\n",
    "        nums[num] = 1+nums[num] if num in nums.keys() else 1\n",
    "    return suits,nums\n",
    "def run_poker(nsim:int,seed:int):\n",
    "    suitvec = ['\\u2660','\\u2665','\\u2663','\\u2666']\n",
    "    numbervec = ['A','2','3','4','5','6','7','8','9','10','J','Q','K']\n",
    "    deck = [i+j for i,j in product(suitvec,numbervec)]\n",
    "    hands = {'royal':0,'stflush':0,'quad':0,'fullhouse':0,'flush':0,\\\n",
    "             'straight':0,'trip':0,'twopair':0,'pair':0,'other':0}\n",
    "    random.seed(seed)\n",
    "    for i in range(nsim):\n",
    "        random.shuffle(deck)\n",
    "        hand = deck[:5]\n",
    "        suits,nums = get_suits_and_nums(hand)\n",
    "        name = get_hand_name(suits,nums)\n",
    "        hands[name] += 1\n",
    "    return hands\n",
    "\n",
    "%timeit print(run_poker(int(1e6),0))"
   ]
  },
  {
   "cell_type": "code",
   "execution_count": 7,
   "metadata": {
    "ExecuteTime": {
     "end_time": "2023-01-27T23:45:10.721703Z",
     "start_time": "2023-01-27T23:45:10.712227Z"
    }
   },
   "outputs": [
    {
     "name": "stdout",
     "output_type": "stream",
     "text": [
      "♠A\n",
      "♠2\n",
      "♠3\n",
      "♠4\n",
      "♠5\n",
      "♠6\n",
      "♠7\n",
      "♠8\n",
      "♠9\n",
      "♠10\n",
      "♠J\n",
      "♠Q\n",
      "♠K\n",
      "♥A\n",
      "♥2\n",
      "♥3\n",
      "♥4\n",
      "♥5\n",
      "♥6\n",
      "♥7\n",
      "♥8\n",
      "♥9\n",
      "♥10\n",
      "♥J\n",
      "♥Q\n",
      "♥K\n",
      "♣A\n",
      "♣2\n",
      "♣3\n",
      "♣4\n",
      "♣5\n",
      "♣6\n",
      "♣7\n",
      "♣8\n",
      "♣9\n",
      "♣10\n",
      "♣J\n",
      "♣Q\n",
      "♣K\n",
      "♦A\n",
      "♦2\n",
      "♦3\n",
      "♦4\n",
      "♦5\n",
      "♦6\n",
      "♦7\n",
      "♦8\n",
      "♦9\n",
      "♦10\n",
      "♦J\n",
      "♦Q\n",
      "♦K\n"
     ]
    }
   ],
   "source": [
    "from itertools import product\n",
    "\n",
    "suitvec = ['\\u2660','\\u2665','\\u2663','\\u2666']\n",
    "numbervec = ['A','2','3','4','5','6','7','8','9','10','J','Q','K']\n",
    "for i,j in product(suitvec,numbervec):\n",
    "    print(i+j)"
   ]
  },
  {
   "cell_type": "code",
   "execution_count": 8,
   "metadata": {
    "ExecuteTime": {
     "end_time": "2021-01-27T22:59:27.348568Z",
     "start_time": "2021-01-27T22:59:27.341569Z"
    }
   },
   "outputs": [
    {
     "name": "stdout",
     "output_type": "stream",
     "text": [
      "21\n"
     ]
    }
   ],
   "source": [
    "x = 3\n",
    "print(7*x)"
   ]
  },
  {
   "cell_type": "code",
   "execution_count": 6,
   "metadata": {
    "ExecuteTime": {
     "end_time": "2021-01-27T23:02:01.757880Z",
     "start_time": "2021-01-27T23:02:01.749910Z"
    }
   },
   "outputs": [
    {
     "name": "stdout",
     "output_type": "stream",
     "text": [
      "C:\\Users\\jason\\Downloads\n"
     ]
    }
   ],
   "source": [
    "%cd ~/Downloads"
   ]
  },
  {
   "cell_type": "code",
   "execution_count": 18,
   "metadata": {
    "ExecuteTime": {
     "end_time": "2022-09-01T02:18:52.287255Z",
     "start_time": "2022-09-01T02:18:52.273282Z"
    }
   },
   "outputs": [
    {
     "data": {
      "text/plain": [
       "['♠', '♥', '♣', '♦']"
      ]
     },
     "execution_count": 18,
     "metadata": {},
     "output_type": "execute_result"
    }
   ],
   "source": [
    "suitvec = ['\\u2660','\\u2665','\\u2663','\\u2666']\n",
    "suitvec"
   ]
  },
  {
   "cell_type": "code",
   "execution_count": 8,
   "metadata": {},
   "outputs": [
    {
     "name": "stdout",
     "output_type": "stream",
     "text": [
      "[('♠', 'A'), ('♠', '2'), ('♠', '3'), ('♠', '4'), ('♠', '5'), ('♠', '6'), ('♠', '7'), ('♠', '8'), ('♠', '9'), ('♠', '10'), ('♠', 'J'), ('♠', 'Q'), ('♠', 'K'), ('♥', 'A'), ('♥', '2'), ('♥', '3'), ('♥', '4'), ('♥', '5'), ('♥', '6'), ('♥', '7'), ('♥', '8'), ('♥', '9'), ('♥', '10'), ('♥', 'J'), ('♥', 'Q'), ('♥', 'K'), ('♣', 'A'), ('♣', '2'), ('♣', '3'), ('♣', '4'), ('♣', '5'), ('♣', '6'), ('♣', '7'), ('♣', '8'), ('♣', '9'), ('♣', '10'), ('♣', 'J'), ('♣', 'Q'), ('♣', 'K'), ('♦', 'A'), ('♦', '2'), ('♦', '3'), ('♦', '4'), ('♦', '5'), ('♦', '6'), ('♦', '7'), ('♦', '8'), ('♦', '9'), ('♦', '10'), ('♦', 'J'), ('♦', 'Q'), ('♦', 'K')]\n"
     ]
    }
   ],
   "source": [
    "import itertools\n",
    "suitvec = ['\\u2660','\\u2665','\\u2663','\\u2666']\n",
    "numbervec = ['A','2','3','4','5','6','7','8','9','10','J','Q','K']\n",
    "\n",
    "print(list(itertools.product(suitvec,numbervec)))"
   ]
  },
  {
   "cell_type": "markdown",
   "metadata": {},
   "source": [
    "Next I considered comparing this to multithreaded code. So I wrote this to a file. Note the use of pickle to store the information and sys to read commandline arguments:"
   ]
  },
  {
   "cell_type": "code",
   "execution_count": 10,
   "metadata": {
    "ExecuteTime": {
     "end_time": "2023-01-27T23:55:27.846546Z",
     "start_time": "2023-01-27T23:55:27.835034Z"
    }
   },
   "outputs": [
    {
     "name": "stdout",
     "output_type": "stream",
     "text": [
      "C:\\Users\\jason\\Dropbox\\utdallas\\buan6340\\post\n"
     ]
    }
   ],
   "source": [
    "%cd C:/Users/jason/Dropbox/utdallas/buan6340/post"
   ]
  },
  {
   "cell_type": "code",
   "execution_count": 10,
   "metadata": {
    "ExecuteTime": {
     "end_time": "2023-01-27T23:57:12.073043Z",
     "start_time": "2023-01-27T23:57:12.067528Z"
    },
    "code_folding": [
     9,
     26,
     35
    ]
   },
   "outputs": [],
   "source": [
    "dump_string = '''\n",
    "from itertools import product\n",
    "import random\n",
    "import sys\n",
    "import pickle\n",
    "\n",
    "nsim = int(sys.argv[1])\n",
    "seed = int(sys.argv[2])\n",
    "\n",
    "def get_hand_name(suits:dict,nums:dict):\n",
    "    suitvec =   ['\\\\u2660','\\\\u2665','\\\\u2663','\\\\u2666']\n",
    "    numbervec = ['A','2','3','4','5','6','7','8','9','10','J','Q','K','A']\n",
    "    straights = [set(numbervec[i:i+5]) for i in range(10)]\n",
    "    nvals = list(nums.values())\n",
    "    nvals.sort()\n",
    "    if set(nums.keys()) in straights and len(suits)==1:\n",
    "        if set(nums.keys()) == straights[-1]: return 'royal'\n",
    "        return 'stflush'\n",
    "    if nvals[-1] >= 4: return 'quad'\n",
    "    if nvals[-1] == 3 and nvals[-2] == 2: return 'fullhouse'\n",
    "    if len(suits)==1: return 'flush'\n",
    "    if set(nums.keys()) in straights: return 'straight'\n",
    "    if nvals[-1] >= 3: return 'trip'\n",
    "    if nvals[-1] >= 2 and nvals[-2] >= 2: return 'twopair'\n",
    "    if nvals[-1] >= 2: return 'pair'\n",
    "    return 'other'\n",
    "def get_suits_and_nums(hand):\n",
    "    suits = {}\n",
    "    nums = {}\n",
    "    for card in hand:\n",
    "        suit = card[0]\n",
    "        num = card[1:]\n",
    "        suits[suit] = 1+suits[suit] if suit in suits.keys() else 1\n",
    "        nums[num] = 1+nums[num] if num in nums.keys() else 1\n",
    "    return suits,nums\n",
    "def run_poker(nsim:int,seed:int):\n",
    "    suitvec = ['\\\\u2660','\\\\u2665','\\\\u2663','\\\\u2666']\n",
    "    numbervec = ['A','2','3','4','5','6','7','8','9','10','J','Q','K']\n",
    "    deck = [i+j for i,j in product(suitvec,numbervec)]\n",
    "    hands = {'royal':0,'stflush':0,'quad':0,'fullhouse':0,'flush':0,\\\n",
    "             'straight':0,'trip':0,'twopair':0,'pair':0,'other':0}\n",
    "    random.seed(seed)\n",
    "    for i in range(nsim):\n",
    "        random.shuffle(deck)\n",
    "        hand = deck[:5]\n",
    "        suits,nums = get_suits_and_nums(hand)\n",
    "        name = get_hand_name(suits,nums)\n",
    "        hands[name] += 1\n",
    "    return hands\n",
    "\n",
    "with open('saves/poker_{0}_{1}.p'.format(nsim,seed),'wb') as pfile:\n",
    "    pickle.dump(run_poker(nsim,seed),pfile)\n",
    "'''\n",
    "with open('poker.py','w') as file:\n",
    "    file.write(dump_string)"
   ]
  },
  {
   "cell_type": "code",
   "execution_count": 11,
   "metadata": {
    "ExecuteTime": {
     "end_time": "2023-01-26T23:12:41.326893Z",
     "start_time": "2023-01-26T23:12:41.317847Z"
    }
   },
   "outputs": [
    {
     "data": {
      "text/plain": [
       "'saves/poker_1000_7.p'"
      ]
     },
     "execution_count": 11,
     "metadata": {},
     "output_type": "execute_result"
    }
   ],
   "source": [
    "nsim = 1000\n",
    "seed = 7\n",
    "'saves/poker_{0}_{1}.p'.format(nsim,seed)"
   ]
  },
  {
   "cell_type": "code",
   "execution_count": 9,
   "metadata": {
    "ExecuteTime": {
     "end_time": "2022-01-29T00:00:07.135694Z",
     "start_time": "2022-01-29T00:00:07.123718Z"
    }
   },
   "outputs": [
    {
     "name": "stdout",
     "output_type": "stream",
     "text": [
      "C:\\Users\\jason\\Dropbox\\utdallas\\buan6340\\post\n"
     ]
    }
   ],
   "source": [
    "cd ~/Dropbox/utdallas/buan6340/post"
   ]
  },
  {
   "cell_type": "markdown",
   "metadata": {},
   "source": [
    "Now, I wrote a wrapper using subprocess:"
   ]
  },
  {
   "cell_type": "code",
   "execution_count": 12,
   "metadata": {
    "ExecuteTime": {
     "end_time": "2022-09-08T00:26:41.313835Z",
     "start_time": "2022-09-08T00:24:53.838501Z"
    },
    "code_folding": []
   },
   "outputs": [
    {
     "ename": "FileNotFoundError",
     "evalue": "[Errno 2] No such file or directory: 'saves/poker_10000_0.p'",
     "output_type": "error",
     "traceback": [
      "\u001b[1;31m---------------------------------------------------------------------------\u001b[0m",
      "\u001b[1;31mFileNotFoundError\u001b[0m                         Traceback (most recent call last)",
      "Cell \u001b[1;32mIn[12], line 23\u001b[0m\n\u001b[0;32m     20\u001b[0m     run_parallel_poker(num_procs,num_sims_each)\n\u001b[0;32m     21\u001b[0m     \u001b[39mreturn\u001b[39;00m collect_parallel_poker(num_procs,num_sims_each)\n\u001b[1;32m---> 23\u001b[0m get_ipython()\u001b[39m.\u001b[39;49mrun_line_magic(\u001b[39m'\u001b[39;49m\u001b[39mtimeit\u001b[39;49m\u001b[39m'\u001b[39;49m, \u001b[39m'\u001b[39;49m\u001b[39mprint(parallel_poker(100,int(1e6/100)))\u001b[39;49m\u001b[39m'\u001b[39;49m)\n",
      "File \u001b[1;32mc:\\Users\\shaur\\anaconda3\\envs\\commonlit\\lib\\site-packages\\IPython\\core\\interactiveshell.py:2417\u001b[0m, in \u001b[0;36mInteractiveShell.run_line_magic\u001b[1;34m(self, magic_name, line, _stack_depth)\u001b[0m\n\u001b[0;32m   2415\u001b[0m     kwargs[\u001b[39m'\u001b[39m\u001b[39mlocal_ns\u001b[39m\u001b[39m'\u001b[39m] \u001b[39m=\u001b[39m \u001b[39mself\u001b[39m\u001b[39m.\u001b[39mget_local_scope(stack_depth)\n\u001b[0;32m   2416\u001b[0m \u001b[39mwith\u001b[39;00m \u001b[39mself\u001b[39m\u001b[39m.\u001b[39mbuiltin_trap:\n\u001b[1;32m-> 2417\u001b[0m     result \u001b[39m=\u001b[39m fn(\u001b[39m*\u001b[39margs, \u001b[39m*\u001b[39m\u001b[39m*\u001b[39mkwargs)\n\u001b[0;32m   2419\u001b[0m \u001b[39m# The code below prevents the output from being displayed\u001b[39;00m\n\u001b[0;32m   2420\u001b[0m \u001b[39m# when using magics with decodator @output_can_be_silenced\u001b[39;00m\n\u001b[0;32m   2421\u001b[0m \u001b[39m# when the last Python token in the expression is a ';'.\u001b[39;00m\n\u001b[0;32m   2422\u001b[0m \u001b[39mif\u001b[39;00m \u001b[39mgetattr\u001b[39m(fn, magic\u001b[39m.\u001b[39mMAGIC_OUTPUT_CAN_BE_SILENCED, \u001b[39mFalse\u001b[39;00m):\n",
      "File \u001b[1;32mc:\\Users\\shaur\\anaconda3\\envs\\commonlit\\lib\\site-packages\\IPython\\core\\magics\\execution.py:1170\u001b[0m, in \u001b[0;36mExecutionMagics.timeit\u001b[1;34m(self, line, cell, local_ns)\u001b[0m\n\u001b[0;32m   1168\u001b[0m \u001b[39mfor\u001b[39;00m index \u001b[39min\u001b[39;00m \u001b[39mrange\u001b[39m(\u001b[39m0\u001b[39m, \u001b[39m10\u001b[39m):\n\u001b[0;32m   1169\u001b[0m     number \u001b[39m=\u001b[39m \u001b[39m10\u001b[39m \u001b[39m*\u001b[39m\u001b[39m*\u001b[39m index\n\u001b[1;32m-> 1170\u001b[0m     time_number \u001b[39m=\u001b[39m timer\u001b[39m.\u001b[39;49mtimeit(number)\n\u001b[0;32m   1171\u001b[0m     \u001b[39mif\u001b[39;00m time_number \u001b[39m>\u001b[39m\u001b[39m=\u001b[39m \u001b[39m0.2\u001b[39m:\n\u001b[0;32m   1172\u001b[0m         \u001b[39mbreak\u001b[39;00m\n",
      "File \u001b[1;32mc:\\Users\\shaur\\anaconda3\\envs\\commonlit\\lib\\site-packages\\IPython\\core\\magics\\execution.py:158\u001b[0m, in \u001b[0;36mTimer.timeit\u001b[1;34m(self, number)\u001b[0m\n\u001b[0;32m    156\u001b[0m gc\u001b[39m.\u001b[39mdisable()\n\u001b[0;32m    157\u001b[0m \u001b[39mtry\u001b[39;00m:\n\u001b[1;32m--> 158\u001b[0m     timing \u001b[39m=\u001b[39m \u001b[39mself\u001b[39;49m\u001b[39m.\u001b[39;49minner(it, \u001b[39mself\u001b[39;49m\u001b[39m.\u001b[39;49mtimer)\n\u001b[0;32m    159\u001b[0m \u001b[39mfinally\u001b[39;00m:\n\u001b[0;32m    160\u001b[0m     \u001b[39mif\u001b[39;00m gcold:\n",
      "File \u001b[1;32m<magic-timeit>:1\u001b[0m, in \u001b[0;36minner\u001b[1;34m(_it, _timer)\u001b[0m\n",
      "Cell \u001b[1;32mIn[12], line 21\u001b[0m, in \u001b[0;36mparallel_poker\u001b[1;34m(num_procs, num_sims_each)\u001b[0m\n\u001b[0;32m     19\u001b[0m \u001b[39mdef\u001b[39;00m \u001b[39mparallel_poker\u001b[39m(num_procs,num_sims_each):\n\u001b[0;32m     20\u001b[0m     run_parallel_poker(num_procs,num_sims_each)\n\u001b[1;32m---> 21\u001b[0m     \u001b[39mreturn\u001b[39;00m collect_parallel_poker(num_procs,num_sims_each)\n",
      "Cell \u001b[1;32mIn[12], line 14\u001b[0m, in \u001b[0;36mcollect_parallel_poker\u001b[1;34m(num_procs, num_sims_each)\u001b[0m\n\u001b[0;32m     12\u001b[0m total \u001b[39m=\u001b[39m {}\n\u001b[0;32m     13\u001b[0m \u001b[39mfor\u001b[39;00m i \u001b[39min\u001b[39;00m \u001b[39mrange\u001b[39m(num_procs):\n\u001b[1;32m---> 14\u001b[0m     pfile \u001b[39m=\u001b[39m \u001b[39mopen\u001b[39;49m(\u001b[39m'\u001b[39;49m\u001b[39msaves/poker_\u001b[39;49m\u001b[39m{0}\u001b[39;49;00m\u001b[39m_\u001b[39;49m\u001b[39m{1}\u001b[39;49;00m\u001b[39m.p\u001b[39;49m\u001b[39m'\u001b[39;49m\u001b[39m.\u001b[39;49mformat(num_sims_each,i),\u001b[39m'\u001b[39;49m\u001b[39mrb\u001b[39;49m\u001b[39m'\u001b[39;49m)\n\u001b[0;32m     15\u001b[0m     save \u001b[39m=\u001b[39m pickle\u001b[39m.\u001b[39mload(pfile)\n\u001b[0;32m     16\u001b[0m     total \u001b[39m=\u001b[39m {k:save[k]\u001b[39m+\u001b[39mtotal\u001b[39m.\u001b[39mget(k,\u001b[39m0\u001b[39m) \u001b[39mfor\u001b[39;00m k \u001b[39min\u001b[39;00m save\u001b[39m.\u001b[39mkeys()}\n",
      "File \u001b[1;32mc:\\Users\\shaur\\anaconda3\\envs\\commonlit\\lib\\site-packages\\IPython\\core\\interactiveshell.py:284\u001b[0m, in \u001b[0;36m_modified_open\u001b[1;34m(file, *args, **kwargs)\u001b[0m\n\u001b[0;32m    277\u001b[0m \u001b[39mif\u001b[39;00m file \u001b[39min\u001b[39;00m {\u001b[39m0\u001b[39m, \u001b[39m1\u001b[39m, \u001b[39m2\u001b[39m}:\n\u001b[0;32m    278\u001b[0m     \u001b[39mraise\u001b[39;00m \u001b[39mValueError\u001b[39;00m(\n\u001b[0;32m    279\u001b[0m         \u001b[39mf\u001b[39m\u001b[39m\"\u001b[39m\u001b[39mIPython won\u001b[39m\u001b[39m'\u001b[39m\u001b[39mt let you open fd=\u001b[39m\u001b[39m{\u001b[39;00mfile\u001b[39m}\u001b[39;00m\u001b[39m by default \u001b[39m\u001b[39m\"\u001b[39m\n\u001b[0;32m    280\u001b[0m         \u001b[39m\"\u001b[39m\u001b[39mas it is likely to crash IPython. If you know what you are doing, \u001b[39m\u001b[39m\"\u001b[39m\n\u001b[0;32m    281\u001b[0m         \u001b[39m\"\u001b[39m\u001b[39myou can use builtins\u001b[39m\u001b[39m'\u001b[39m\u001b[39m open.\u001b[39m\u001b[39m\"\u001b[39m\n\u001b[0;32m    282\u001b[0m     )\n\u001b[1;32m--> 284\u001b[0m \u001b[39mreturn\u001b[39;00m io_open(file, \u001b[39m*\u001b[39margs, \u001b[39m*\u001b[39m\u001b[39m*\u001b[39mkwargs)\n",
      "\u001b[1;31mFileNotFoundError\u001b[0m: [Errno 2] No such file or directory: 'saves/poker_10000_0.p'"
     ]
    }
   ],
   "source": [
    "import subprocess\n",
    "import pickle\n",
    "\n",
    "def run_parallel_poker(num_procs,num_sims_each):\n",
    "    procvec = []\n",
    "    for i in range(num_procs):\n",
    "        item = subprocess.Popen(['python','poker.py',str(num_sims_each),str(i)])\n",
    "        procvec += [item]\n",
    "    for item in procvec:\n",
    "        item.wait()\n",
    "def collect_parallel_poker(num_procs,num_sims_each):\n",
    "    total = {}\n",
    "    for i in range(num_procs):\n",
    "        pfile = open('saves/poker_{0}_{1}.p'.format(num_sims_each,i),'rb')\n",
    "        save = pickle.load(pfile)\n",
    "        total = {k:save[k]+total.get(k,0) for k in save.keys()}\n",
    "        pfile.close()\n",
    "    return total\n",
    "def parallel_poker(num_procs,num_sims_each):\n",
    "    run_parallel_poker(num_procs,num_sims_each)\n",
    "    return collect_parallel_poker(num_procs,num_sims_each)\n",
    "\n",
    "%timeit print(parallel_poker(100,int(1e6/100)))"
   ]
  },
  {
   "cell_type": "code",
   "execution_count": 30,
   "metadata": {
    "ExecuteTime": {
     "end_time": "2022-09-08T00:26:50.817290Z",
     "start_time": "2022-09-08T00:26:50.799288Z"
    }
   },
   "outputs": [
    {
     "data": {
      "text/plain": [
       "2.5925925925925926"
      ]
     },
     "execution_count": 30,
     "metadata": {},
     "output_type": "execute_result"
    }
   ],
   "source": [
    "35/13.5"
   ]
  },
  {
   "cell_type": "code",
   "execution_count": 26,
   "metadata": {
    "ExecuteTime": {
     "end_time": "2022-09-08T00:15:50.529642Z",
     "start_time": "2022-09-08T00:15:50.520641Z"
    }
   },
   "outputs": [],
   "source": [
    "import subprocess"
   ]
  },
  {
   "cell_type": "code",
   "execution_count": 27,
   "metadata": {
    "ExecuteTime": {
     "end_time": "2022-09-08T00:19:14.300869Z",
     "start_time": "2022-09-08T00:19:13.896842Z"
    },
    "scrolled": true
   },
   "outputs": [
    {
     "data": {
      "text/plain": [
       "b''"
      ]
     },
     "execution_count": 27,
     "metadata": {},
     "output_type": "execute_result"
    }
   ],
   "source": [
    "proc = subprocess.Popen(['python','poker.py',\"10000\",\"0\"],\n",
    "                        stderr=subprocess.PIPE)\n",
    "proc.stderr.read()\n"
   ]
  },
  {
   "cell_type": "code",
   "execution_count": 28,
   "metadata": {
    "ExecuteTime": {
     "end_time": "2022-09-08T00:19:30.761309Z",
     "start_time": "2022-09-08T00:19:30.336638Z"
    }
   },
   "outputs": [
    {
     "data": {
      "text/plain": [
       "b''"
      ]
     },
     "execution_count": 28,
     "metadata": {},
     "output_type": "execute_result"
    }
   ],
   "source": [
    "proc = subprocess.Popen(['python','poker.py',\"10000\",\"0\"],\n",
    "                        stdout=subprocess.PIPE)\n",
    "proc.stdout.read()"
   ]
  },
  {
   "cell_type": "markdown",
   "metadata": {},
   "source": [
    "What I got was a $16\\times$ improvement running on a system with 16 cores (32 threads)"
   ]
  },
  {
   "cell_type": "markdown",
   "metadata": {},
   "source": [
    "## Data science: Matrix algebra\n",
    "\n",
    "#### Notation\n",
    "$$\\mathbf{X}=\n",
    "\\begin{bmatrix}\n",
    "x_{1,1} & x_{1,2} & \\dots  & x_{1,r} \\\\\n",
    "x_{2,1} & x_{2,2} &        & x_{2,r} \\\\\n",
    "\\vdots  &         & \\ddots & \\vdots  \\\\\n",
    "x_{n,1} & x_{n,2} & \\dots  & x_{n,r} \\\\\n",
    "\\end{bmatrix}=\\left(x_{i,j}\\right)_{i=1,..n;j=1,..r}\n",
    "$$\n",
    "\n",
    "### Arithmetic\n",
    "#### Basic operations\n",
    "**Addition** on matrices works the same way as addition on vectors: $\\mathbf{X}+\\mathbf{Y}=\\left(x_{i,j}+y_{i,j}\\right)_{i=1,..n;j=1,..r}$ Similarly, **scalar multiplication** works the same: $a\\mathbf{X}=\\left(a\\cdot x_{i,j}\\right)_{i=1,..n;j=1,..r}$. The only special simple operation you need to know is the **transpose**. The transpose switches the rows and the columns of a matrix: $\\mathbf{X}'=\\left(x_{i,j}\\right)_{j=1,..r;i=1,..n}$\n",
    "#### Multiplication\t\n",
    "In general, a linear system is one where:\n",
    "$$\\mathbf{A}x=y$$\n",
    "For ordinary least squares, we define the following linear system:\n",
    "$$y=\\mathbf{X}\\beta+e$$\n",
    "Matrix multiplication is defined so that this equation is equivalent to:\n",
    "$$y_i = \\beta_0+\\beta_1 x_{i,1}+\\dots+\\beta_r x_{i,r}+e_i$$\n",
    "For this to be true,\n",
    "$$\\mathbf{X}\\mathbf{Y}=\\left(\\sum_{k=1}^r x_{i,k}y_{k,j}\\right)_{i=1,..,n;j=1,..,m}$$\n",
    "You don't need to memorize this. The computer will calculate it for you. You need to be able to read equations like $y=\\mathbf{X}\\beta+e$ and understand them. Note that we can now revise our inner product definition to:\n",
    "$\\langle x,y \\rangle = x'y$\n",
    "### Special quantities\n",
    "#### Special matrices\t\n",
    "The $n\\times r$ **zero matrix** is defined by: $\\mathbf{0}=(0)_{i=1,..n;j=1,..r}$ Note that for any matrix $\\mathbf{X}$:\n",
    "\n",
    "$$\\mathbf{0} \\mathbf{X} =  \\mathbf{X} \\mathbf{0} = \\mathbf{0}$$\n",
    "\n",
    "The $n\\times r$ **ones matrix** is defined by: $\\mathbf{1}=(1)_{i=1,..n;j=1,..r}$\n",
    "\n",
    "The $n\\times n$ **identity matrix** is defined by:\n",
    "$$\n",
    "\\mathbf{I}_n=\n",
    "\\begin{bmatrix}\n",
    "1 & 0 & \\dots & 0 \\\\\n",
    "0 & 1 & & 0 \\\\\n",
    "\\vdots & & \\ddots & \\vdots \\\\\n",
    "0 & 0 & \\dots& 1\n",
    "\\end{bmatrix}\n",
    "$$\n",
    "Note that for any $n\\times r$ matrix $\\mathbf{X}$,\n",
    "$$\\mathbf{I}_n \\mathbf{X} =  \\mathbf{X} \\mathbf{I}_r = \\mathbf{X}$$\n",
    "\n",
    "The **diagonal matrix** of a vector $x$ is defined by:\n",
    "$$\n",
    "\\text{diag}\\left(x\\right)=\n",
    "\\begin{bmatrix}\n",
    "x_1 & 0 & \\dots & 0 \\\\\n",
    "0 & x_2 & & 0 \\\\\n",
    "\\vdots & & \\ddots & \\vdots \\\\\n",
    "0 & 0 & \\dots& x_n\n",
    "\\end{bmatrix}\n",
    "$$\n",
    "\n",
    "A square ($n\\times n$) matrix $\\mathbf{X}$ is said to be **symmetric** if and only if:\n",
    "\n",
    "$$\\mathbf{X} \\text{ symmetric} \\Longleftrightarrow \\mathbf{X}=\\mathbf{X}'$$\n",
    "#### Scalar quantites\t\n",
    "\n",
    "$a'x$ is a **linear form** of the vector $x$\n",
    "\n",
    "$x'\\mathbf{A}x$ is a **quadratic form** of the vector $x$\n",
    "#### Measures\n",
    "The **trace** of a matrix $\\mathbf{X}$ is defined as the sum of the elements on the main diagonal:\n",
    "$\\text{tr}(\\mathbf X)=\\sum_{i=1}^r x_{i,i}$. The **determinant** is an incredibly confusing concept. It's something like a matrix norm, but the concept is confusing even to experts. The determinant of a square matrix $\\mathbf X$ is defined by: \n",
    "$$\n",
    "\\text{det}(\\mathbf X)=\n",
    "\\sum_{\\sigma\\in S_n}\\left(\\text{sgn}(\\sigma)\\prod_{i=1}^n x_{i,\\sigma_i}\\right)\n",
    "$$\n",
    "where $S_n$ is the set of a permutations of the numbers $1,\\dots,n$. This is ridiculously obtuse, and I am only putting it here for reference, not for your comprehension. Actual matrix norms exist. The **$L_p$-norm** of a matrix is defined as\n",
    "$$\\max_a \\left\\Vert \\mathbf Xa\\right\\Vert_p\\text{ subject to }\\left\\Vert a\\right\\Vert_p=1$$ \n",
    "\n",
    "### Matrix algebra\n",
    "#### Solving systems\n",
    "\n",
    "When it exists, the **inverse** of a square ($n\\times n$) matrix $\\mathbf X$ is defined such that:\n",
    "$$\\mathbf X\\mathbf X^{-1}=\\mathbf X^{-1}\\mathbf X=\\mathbf I_n$$\n",
    "This means that the inverse cancels with the matrix so that they both together become an identity matrix. When an inverse exists, we can solve linear systems such as $\\mathbf Ax=y$ for $x$. \n",
    "$$\\begin{align}\n",
    "\\mathbf Ax &=y \\\\\n",
    "\\mathbf A^{-1}\\mathbf Ax &=\\mathbf A^{-1}y\\\\\n",
    "x &=\\mathbf A^{-1}y\n",
    "\\end{align}$$\n",
    "This is why we need inverses. The question then becomes, under what conditions does the inverse exist? The answer confusingly is that it exists so long as the determinant of the matrix is not equal to zero. If $\\text{det}(\\mathbf A)\\neq 0$ and $\\mathbf A$ is square, then $A^{-1}$ is guaranteed to exist. This condition is the matrix equivalent of not dividing by zero.\n",
    "\n",
    "Using the inverse, the ordinary least squares (OLS) estimator for $\\beta$ in the system $y=\\mathbf X\\beta+e$:\n",
    "$$\\hat\\beta=\\left(\\mathbf X'\\mathbf X\\right)^{-1}\\mathbf X'y$$\n",
    "\n",
    "#### Miscellaneous\n",
    "Sometimes when working with matrices it is necessary to consider **partition matrices** which is a way of representing a matrix using other smaller matrices. Consider the following $n\\times r$ matrix $\\mathbf X$:\n",
    "$$\\mathbf X = \n",
    "\\begin{bmatrix}\n",
    "\\mathbf X_{1,1} & \\mathbf X_{1,2} \\\\\n",
    "\\mathbf X_{2,1} & \\mathbf X_{2,2} \n",
    "\\end{bmatrix}\n",
    "$$\n",
    "where to make the dimensions match $\\mathbf X_{i,j}$ is $n_i\\times r_j$ where $n_1+n_2=n$ and $r_1+r_2=r$. If we transpose $\\mathbf X$, then consider what has to happen to the submatrices given that the dimensions still have to match:\n",
    "$$\\mathbf X' = \n",
    "\\begin{bmatrix}\n",
    "\\mathbf X_{1,1}' & \\mathbf X_{2,1}' \\\\\n",
    "\\mathbf X_{1,2}' & \\mathbf X_{2,2}' \n",
    "\\end{bmatrix}\n",
    "$$\n",
    "\n",
    "The **Hadamard product** of two matrices is just the **elementwise product** of those matrices: $\\mathbf X\\circ\\mathbf Y=\\left(x_{i,j}y_{i,j}\\right)_{i=1,..n;j=1,..r}$. \n",
    "\n",
    "On the other hand, the **Kronecker product** is defined as $\\mathbf X\\otimes\\mathbf Y=(x_{i,j}\\mathbf Y)_{i=1,..n;j=1,..r}$. This means that we have an entire copy of $\\mathbf Y$ for every element of $\\mathbf X$. This implies that if $\\mathbf X$ is $n\\times r$ and $\\mathbf Y$ is $m\\times s$, then $\\mathbf X\\otimes\\mathbf Y$ is $nm\\times rs$. \n",
    "    "
   ]
  },
  {
   "cell_type": "markdown",
   "metadata": {},
   "source": [
    "## Programming challenges\n",
    "### grep\n",
    "\n",
    "Write an implementation of the grep script in python. \n",
    "\n",
    "* Command line argument: regular expression\n",
    "* Standard input: input to be searched for the regular expression\n",
    "* Standard output: any line from standard input that has the regular expression\n"
   ]
  },
  {
   "cell_type": "code",
   "execution_count": 7,
   "metadata": {},
   "outputs": [
    {
     "name": "stdout",
     "output_type": "stream",
     "text": [
      "C:\\Users\\shaur\\OneDrive\\Desktop\\UTD Work\\Sem 3\\PDS\\Test\n"
     ]
    }
   ],
   "source": [
    "cd C:/Users/shaur/OneDrive/Desktop/UTD Work/Sem 3/PDS/Test"
   ]
  },
  {
   "cell_type": "code",
   "execution_count": 8,
   "metadata": {},
   "outputs": [],
   "source": [
    "import re\n",
    "file = open(\"test.txt\",\"w\")\n",
    "file.write(\"My world \\n is the best \\n Shaurya Tripathi \\n hello world\")\n",
    "file.close()"
   ]
  },
  {
   "cell_type": "code",
   "execution_count": 9,
   "metadata": {},
   "outputs": [
    {
     "name": "stdout",
     "output_type": "stream",
     "text": [
      " Shaurya Tripathi \n",
      "\n"
     ]
    }
   ],
   "source": [
    "pattern = \"Shaurya\"\n",
    "file = open(\"test.txt\",\"r\")\n",
    "for line in file:\n",
    "    if re.search(pattern, line):\n",
    "        print(line)"
   ]
  },
  {
   "cell_type": "markdown",
   "metadata": {},
   "source": [
    "### recursive list \n",
    "\n",
    "Write a program which takes a directory and lists all the files in that area with their complete paths. These files could exist in that directory itself, but you should also include any files in the sub-directories of that directory."
   ]
  },
  {
   "cell_type": "code",
   "execution_count": 12,
   "metadata": {
    "ExecuteTime": {
     "end_time": "2023-01-26T23:35:15.081585Z",
     "start_time": "2023-01-26T23:35:15.065551Z"
    }
   },
   "outputs": [],
   "source": [
    "import os"
   ]
  },
  {
   "cell_type": "code",
   "execution_count": 14,
   "metadata": {},
   "outputs": [
    {
     "name": "stdout",
     "output_type": "stream",
     "text": [
      "C:\\Users\\shaur\\OneDrive\\Desktop\\Courses\n"
     ]
    }
   ],
   "source": [
    "cd C:/Users/shaur/OneDrive/Desktop/Courses"
   ]
  },
  {
   "cell_type": "code",
   "execution_count": 18,
   "metadata": {},
   "outputs": [],
   "source": [
    "def recursive_list(directory):\n",
    "    \n",
    "  files = []\n",
    "  for file in os.listdir(directory):\n",
    "    path = os.path.join(directory, file)\n",
    "    if os.path.isfile(path):\n",
    "      files.append(path)\n",
    "    elif os.path.isdir(path):\n",
    "      files += recursive_list(path)\n",
    "\n",
    "  return files"
   ]
  },
  {
   "cell_type": "code",
   "execution_count": 19,
   "metadata": {},
   "outputs": [
    {
     "name": "stdout",
     "output_type": "stream",
     "text": [
      "C:/Users/shaur/OneDrive/Desktop/Courses\\Learn and Master Git & Github from zero to Hero\\Download more courses.url\n",
      "C:/Users/shaur/OneDrive/Desktop/Courses\\Learn and Master Git & Github from zero to Hero\\Downloaded from Demonoid - www.dnoid.to.txt\n",
      "C:/Users/shaur/OneDrive/Desktop/Courses\\Learn and Master Git & Github from zero to Hero\\Downloaded from TutsGalaxy.com.txt\n",
      "C:/Users/shaur/OneDrive/Desktop/Courses\\Learn and Master Git & Github from zero to Hero\\Learn and Master Git & Github from zero to Hero\\Download more courses.url\n",
      "C:/Users/shaur/OneDrive/Desktop/Courses\\Learn and Master Git & Github from zero to Hero\\Learn and Master Git & Github from zero to Hero\\Downloaded from TutsGalaxy.com.txt\n",
      "C:/Users/shaur/OneDrive/Desktop/Courses\\Learn and Master Git & Github from zero to Hero\\Learn and Master Git & Github from zero to Hero\\TutsGalaxy.com.txt\n",
      "C:/Users/shaur/OneDrive/Desktop/Courses\\Learn and Master Git & Github from zero to Hero\\Learn and Master Git & Github from zero to Hero\\[Tutsgalaxy.com] - Learn and Master Git & Github from zero to Hero\\1. Introduction\\1. Installation.mp4\n",
      "C:/Users/shaur/OneDrive/Desktop/Courses\\Learn and Master Git & Github from zero to Hero\\Learn and Master Git & Github from zero to Hero\\[Tutsgalaxy.com] - Learn and Master Git & Github from zero to Hero\\1. Introduction\\1. Installation.vtt\n",
      "C:/Users/shaur/OneDrive/Desktop/Courses\\Learn and Master Git & Github from zero to Hero\\Learn and Master Git & Github from zero to Hero\\[Tutsgalaxy.com] - Learn and Master Git & Github from zero to Hero\\1. Introduction\\10. Rename and delete.mp4\n",
      "C:/Users/shaur/OneDrive/Desktop/Courses\\Learn and Master Git & Github from zero to Hero\\Learn and Master Git & Github from zero to Hero\\[Tutsgalaxy.com] - Learn and Master Git & Github from zero to Hero\\1. Introduction\\10. Rename and delete.vtt\n",
      "C:/Users/shaur/OneDrive/Desktop/Courses\\Learn and Master Git & Github from zero to Hero\\Learn and Master Git & Github from zero to Hero\\[Tutsgalaxy.com] - Learn and Master Git & Github from zero to Hero\\1. Introduction\\11. Ignore.mp4\n",
      "C:/Users/shaur/OneDrive/Desktop/Courses\\Learn and Master Git & Github from zero to Hero\\Learn and Master Git & Github from zero to Hero\\[Tutsgalaxy.com] - Learn and Master Git & Github from zero to Hero\\1. Introduction\\11. Ignore.vtt\n",
      "C:/Users/shaur/OneDrive/Desktop/Courses\\Learn and Master Git & Github from zero to Hero\\Learn and Master Git & Github from zero to Hero\\[Tutsgalaxy.com] - Learn and Master Git & Github from zero to Hero\\1. Introduction\\12. Branch.mp4\n",
      "C:/Users/shaur/OneDrive/Desktop/Courses\\Learn and Master Git & Github from zero to Hero\\Learn and Master Git & Github from zero to Hero\\[Tutsgalaxy.com] - Learn and Master Git & Github from zero to Hero\\1. Introduction\\12. Branch.vtt\n",
      "C:/Users/shaur/OneDrive/Desktop/Courses\\Learn and Master Git & Github from zero to Hero\\Learn and Master Git & Github from zero to Hero\\[Tutsgalaxy.com] - Learn and Master Git & Github from zero to Hero\\1. Introduction\\13. Conflits.mp4\n",
      "C:/Users/shaur/OneDrive/Desktop/Courses\\Learn and Master Git & Github from zero to Hero\\Learn and Master Git & Github from zero to Hero\\[Tutsgalaxy.com] - Learn and Master Git & Github from zero to Hero\\1. Introduction\\13. Conflits.vtt\n",
      "C:/Users/shaur/OneDrive/Desktop/Courses\\Learn and Master Git & Github from zero to Hero\\Learn and Master Git & Github from zero to Hero\\[Tutsgalaxy.com] - Learn and Master Git & Github from zero to Hero\\1. Introduction\\14. Delete branch.mp4\n",
      "C:/Users/shaur/OneDrive/Desktop/Courses\\Learn and Master Git & Github from zero to Hero\\Learn and Master Git & Github from zero to Hero\\[Tutsgalaxy.com] - Learn and Master Git & Github from zero to Hero\\1. Introduction\\14. Delete branch.vtt\n",
      "C:/Users/shaur/OneDrive/Desktop/Courses\\Learn and Master Git & Github from zero to Hero\\Learn and Master Git & Github from zero to Hero\\[Tutsgalaxy.com] - Learn and Master Git & Github from zero to Hero\\1. Introduction\\15. Tags.mp4\n",
      "C:/Users/shaur/OneDrive/Desktop/Courses\\Learn and Master Git & Github from zero to Hero\\Learn and Master Git & Github from zero to Hero\\[Tutsgalaxy.com] - Learn and Master Git & Github from zero to Hero\\1. Introduction\\15. Tags.vtt\n",
      "C:/Users/shaur/OneDrive/Desktop/Courses\\Learn and Master Git & Github from zero to Hero\\Learn and Master Git & Github from zero to Hero\\[Tutsgalaxy.com] - Learn and Master Git & Github from zero to Hero\\1. Introduction\\16. Stash.mp4\n",
      "C:/Users/shaur/OneDrive/Desktop/Courses\\Learn and Master Git & Github from zero to Hero\\Learn and Master Git & Github from zero to Hero\\[Tutsgalaxy.com] - Learn and Master Git & Github from zero to Hero\\1. Introduction\\16. Stash.vtt\n",
      "C:/Users/shaur/OneDrive/Desktop/Courses\\Learn and Master Git & Github from zero to Hero\\Learn and Master Git & Github from zero to Hero\\[Tutsgalaxy.com] - Learn and Master Git & Github from zero to Hero\\1. Introduction\\17. Reset.mp4\n",
      "C:/Users/shaur/OneDrive/Desktop/Courses\\Learn and Master Git & Github from zero to Hero\\Learn and Master Git & Github from zero to Hero\\[Tutsgalaxy.com] - Learn and Master Git & Github from zero to Hero\\1. Introduction\\17. Reset.vtt\n",
      "C:/Users/shaur/OneDrive/Desktop/Courses\\Learn and Master Git & Github from zero to Hero\\Learn and Master Git & Github from zero to Hero\\[Tutsgalaxy.com] - Learn and Master Git & Github from zero to Hero\\1. Introduction\\18. Push.mp4\n",
      "C:/Users/shaur/OneDrive/Desktop/Courses\\Learn and Master Git & Github from zero to Hero\\Learn and Master Git & Github from zero to Hero\\[Tutsgalaxy.com] - Learn and Master Git & Github from zero to Hero\\1. Introduction\\18. Push.vtt\n",
      "C:/Users/shaur/OneDrive/Desktop/Courses\\Learn and Master Git & Github from zero to Hero\\Learn and Master Git & Github from zero to Hero\\[Tutsgalaxy.com] - Learn and Master Git & Github from zero to Hero\\1. Introduction\\19. Git permission denied.mp4\n",
      "C:/Users/shaur/OneDrive/Desktop/Courses\\Learn and Master Git & Github from zero to Hero\\Learn and Master Git & Github from zero to Hero\\[Tutsgalaxy.com] - Learn and Master Git & Github from zero to Hero\\1. Introduction\\19. Git permission denied.vtt\n",
      "C:/Users/shaur/OneDrive/Desktop/Courses\\Learn and Master Git & Github from zero to Hero\\Learn and Master Git & Github from zero to Hero\\[Tutsgalaxy.com] - Learn and Master Git & Github from zero to Hero\\1. Introduction\\2. Initialization.mp4\n",
      "C:/Users/shaur/OneDrive/Desktop/Courses\\Learn and Master Git & Github from zero to Hero\\Learn and Master Git & Github from zero to Hero\\[Tutsgalaxy.com] - Learn and Master Git & Github from zero to Hero\\1. Introduction\\2. Initialization.vtt\n",
      "C:/Users/shaur/OneDrive/Desktop/Courses\\Learn and Master Git & Github from zero to Hero\\Learn and Master Git & Github from zero to Hero\\[Tutsgalaxy.com] - Learn and Master Git & Github from zero to Hero\\1. Introduction\\20. Github repository.mp4\n",
      "C:/Users/shaur/OneDrive/Desktop/Courses\\Learn and Master Git & Github from zero to Hero\\Learn and Master Git & Github from zero to Hero\\[Tutsgalaxy.com] - Learn and Master Git & Github from zero to Hero\\1. Introduction\\20. Github repository.vtt\n",
      "C:/Users/shaur/OneDrive/Desktop/Courses\\Learn and Master Git & Github from zero to Hero\\Learn and Master Git & Github from zero to Hero\\[Tutsgalaxy.com] - Learn and Master Git & Github from zero to Hero\\1. Introduction\\21. Clone.mp4\n",
      "C:/Users/shaur/OneDrive/Desktop/Courses\\Learn and Master Git & Github from zero to Hero\\Learn and Master Git & Github from zero to Hero\\[Tutsgalaxy.com] - Learn and Master Git & Github from zero to Hero\\1. Introduction\\21. Clone.vtt\n",
      "C:/Users/shaur/OneDrive/Desktop/Courses\\Learn and Master Git & Github from zero to Hero\\Learn and Master Git & Github from zero to Hero\\[Tutsgalaxy.com] - Learn and Master Git & Github from zero to Hero\\1. Introduction\\22. Push website.mp4\n",
      "C:/Users/shaur/OneDrive/Desktop/Courses\\Learn and Master Git & Github from zero to Hero\\Learn and Master Git & Github from zero to Hero\\[Tutsgalaxy.com] - Learn and Master Git & Github from zero to Hero\\1. Introduction\\22. Push website.vtt\n",
      "C:/Users/shaur/OneDrive/Desktop/Courses\\Learn and Master Git & Github from zero to Hero\\Learn and Master Git & Github from zero to Hero\\[Tutsgalaxy.com] - Learn and Master Git & Github from zero to Hero\\1. Introduction\\23. Push default.mp4\n",
      "C:/Users/shaur/OneDrive/Desktop/Courses\\Learn and Master Git & Github from zero to Hero\\Learn and Master Git & Github from zero to Hero\\[Tutsgalaxy.com] - Learn and Master Git & Github from zero to Hero\\1. Introduction\\23. Push default.vtt\n",
      "C:/Users/shaur/OneDrive/Desktop/Courses\\Learn and Master Git & Github from zero to Hero\\Learn and Master Git & Github from zero to Hero\\[Tutsgalaxy.com] - Learn and Master Git & Github from zero to Hero\\1. Introduction\\24. Fetch vs pull.mp4\n",
      "C:/Users/shaur/OneDrive/Desktop/Courses\\Learn and Master Git & Github from zero to Hero\\Learn and Master Git & Github from zero to Hero\\[Tutsgalaxy.com] - Learn and Master Git & Github from zero to Hero\\1. Introduction\\24. Fetch vs pull.vtt\n",
      "C:/Users/shaur/OneDrive/Desktop/Courses\\Learn and Master Git & Github from zero to Hero\\Learn and Master Git & Github from zero to Hero\\[Tutsgalaxy.com] - Learn and Master Git & Github from zero to Hero\\1. Introduction\\25. Param repo.mp4\n",
      "C:/Users/shaur/OneDrive/Desktop/Courses\\Learn and Master Git & Github from zero to Hero\\Learn and Master Git & Github from zero to Hero\\[Tutsgalaxy.com] - Learn and Master Git & Github from zero to Hero\\1. Introduction\\25. Param repo.vtt\n",
      "C:/Users/shaur/OneDrive/Desktop/Courses\\Learn and Master Git & Github from zero to Hero\\Learn and Master Git & Github from zero to Hero\\[Tutsgalaxy.com] - Learn and Master Git & Github from zero to Hero\\1. Introduction\\26. Rename git remote.mp4\n",
      "C:/Users/shaur/OneDrive/Desktop/Courses\\Learn and Master Git & Github from zero to Hero\\Learn and Master Git & Github from zero to Hero\\[Tutsgalaxy.com] - Learn and Master Git & Github from zero to Hero\\1. Introduction\\26. Rename git remote.vtt\n",
      "C:/Users/shaur/OneDrive/Desktop/Courses\\Learn and Master Git & Github from zero to Hero\\Learn and Master Git & Github from zero to Hero\\[Tutsgalaxy.com] - Learn and Master Git & Github from zero to Hero\\1. Introduction\\27. Synchronize remote with local.mp4\n",
      "C:/Users/shaur/OneDrive/Desktop/Courses\\Learn and Master Git & Github from zero to Hero\\Learn and Master Git & Github from zero to Hero\\[Tutsgalaxy.com] - Learn and Master Git & Github from zero to Hero\\1. Introduction\\27. Synchronize remote with local.vtt\n",
      "C:/Users/shaur/OneDrive/Desktop/Courses\\Learn and Master Git & Github from zero to Hero\\Learn and Master Git & Github from zero to Hero\\[Tutsgalaxy.com] - Learn and Master Git & Github from zero to Hero\\1. Introduction\\28. Commit details.mp4\n",
      "C:/Users/shaur/OneDrive/Desktop/Courses\\Learn and Master Git & Github from zero to Hero\\Learn and Master Git & Github from zero to Hero\\[Tutsgalaxy.com] - Learn and Master Git & Github from zero to Hero\\1. Introduction\\28. Commit details.vtt\n",
      "C:/Users/shaur/OneDrive/Desktop/Courses\\Learn and Master Git & Github from zero to Hero\\Learn and Master Git & Github from zero to Hero\\[Tutsgalaxy.com] - Learn and Master Git & Github from zero to Hero\\1. Introduction\\29. Use remote  id commit in local.mp4\n",
      "C:/Users/shaur/OneDrive/Desktop/Courses\\Learn and Master Git & Github from zero to Hero\\Learn and Master Git & Github from zero to Hero\\[Tutsgalaxy.com] - Learn and Master Git & Github from zero to Hero\\1. Introduction\\29. Use remote  id commit in local.vtt\n",
      "C:/Users/shaur/OneDrive/Desktop/Courses\\Learn and Master Git & Github from zero to Hero\\Learn and Master Git & Github from zero to Hero\\[Tutsgalaxy.com] - Learn and Master Git & Github from zero to Hero\\1. Introduction\\3. First commit.mp4\n",
      "C:/Users/shaur/OneDrive/Desktop/Courses\\Learn and Master Git & Github from zero to Hero\\Learn and Master Git & Github from zero to Hero\\[Tutsgalaxy.com] - Learn and Master Git & Github from zero to Hero\\1. Introduction\\3. First commit.vtt\n",
      "C:/Users/shaur/OneDrive/Desktop/Courses\\Learn and Master Git & Github from zero to Hero\\Learn and Master Git & Github from zero to Hero\\[Tutsgalaxy.com] - Learn and Master Git & Github from zero to Hero\\1. Introduction\\30. Create  branch in github.mp4\n",
      "C:/Users/shaur/OneDrive/Desktop/Courses\\Learn and Master Git & Github from zero to Hero\\Learn and Master Git & Github from zero to Hero\\[Tutsgalaxy.com] - Learn and Master Git & Github from zero to Hero\\1. Introduction\\30. Create  branch in github.vtt\n",
      "C:/Users/shaur/OneDrive/Desktop/Courses\\Learn and Master Git & Github from zero to Hero\\Learn and Master Git & Github from zero to Hero\\[Tutsgalaxy.com] - Learn and Master Git & Github from zero to Hero\\1. Introduction\\31. Branch in local.mp4\n",
      "C:/Users/shaur/OneDrive/Desktop/Courses\\Learn and Master Git & Github from zero to Hero\\Learn and Master Git & Github from zero to Hero\\[Tutsgalaxy.com] - Learn and Master Git & Github from zero to Hero\\1. Introduction\\31. Branch in local.vtt\n",
      "C:/Users/shaur/OneDrive/Desktop/Courses\\Learn and Master Git & Github from zero to Hero\\Learn and Master Git & Github from zero to Hero\\[Tutsgalaxy.com] - Learn and Master Git & Github from zero to Hero\\1. Introduction\\32. Merge on local.mp4\n",
      "C:/Users/shaur/OneDrive/Desktop/Courses\\Learn and Master Git & Github from zero to Hero\\Learn and Master Git & Github from zero to Hero\\[Tutsgalaxy.com] - Learn and Master Git & Github from zero to Hero\\1. Introduction\\32. Merge on local.vtt\n",
      "C:/Users/shaur/OneDrive/Desktop/Courses\\Learn and Master Git & Github from zero to Hero\\Learn and Master Git & Github from zero to Hero\\[Tutsgalaxy.com] - Learn and Master Git & Github from zero to Hero\\1. Introduction\\33. Pull from other branch.mp4\n",
      "C:/Users/shaur/OneDrive/Desktop/Courses\\Learn and Master Git & Github from zero to Hero\\Learn and Master Git & Github from zero to Hero\\[Tutsgalaxy.com] - Learn and Master Git & Github from zero to Hero\\1. Introduction\\33. Pull from other branch.vtt\n",
      "C:/Users/shaur/OneDrive/Desktop/Courses\\Learn and Master Git & Github from zero to Hero\\Learn and Master Git & Github from zero to Hero\\[Tutsgalaxy.com] - Learn and Master Git & Github from zero to Hero\\1. Introduction\\34. Delete branch remote.mp4\n",
      "C:/Users/shaur/OneDrive/Desktop/Courses\\Learn and Master Git & Github from zero to Hero\\Learn and Master Git & Github from zero to Hero\\[Tutsgalaxy.com] - Learn and Master Git & Github from zero to Hero\\1. Introduction\\34. Delete branch remote.vtt\n",
      "C:/Users/shaur/OneDrive/Desktop/Courses\\Learn and Master Git & Github from zero to Hero\\Learn and Master Git & Github from zero to Hero\\[Tutsgalaxy.com] - Learn and Master Git & Github from zero to Hero\\1. Introduction\\35. Git and graph.mp4\n",
      "C:/Users/shaur/OneDrive/Desktop/Courses\\Learn and Master Git & Github from zero to Hero\\Learn and Master Git & Github from zero to Hero\\[Tutsgalaxy.com] - Learn and Master Git & Github from zero to Hero\\1. Introduction\\35. Git and graph.vtt\n",
      "C:/Users/shaur/OneDrive/Desktop/Courses\\Learn and Master Git & Github from zero to Hero\\Learn and Master Git & Github from zero to Hero\\[Tutsgalaxy.com] - Learn and Master Git & Github from zero to Hero\\1. Introduction\\36. Branch by default.mp4\n",
      "C:/Users/shaur/OneDrive/Desktop/Courses\\Learn and Master Git & Github from zero to Hero\\Learn and Master Git & Github from zero to Hero\\[Tutsgalaxy.com] - Learn and Master Git & Github from zero to Hero\\1. Introduction\\36. Branch by default.vtt\n",
      "C:/Users/shaur/OneDrive/Desktop/Courses\\Learn and Master Git & Github from zero to Hero\\Learn and Master Git & Github from zero to Hero\\[Tutsgalaxy.com] - Learn and Master Git & Github from zero to Hero\\1. Introduction\\37. Local tags.mp4\n",
      "C:/Users/shaur/OneDrive/Desktop/Courses\\Learn and Master Git & Github from zero to Hero\\Learn and Master Git & Github from zero to Hero\\[Tutsgalaxy.com] - Learn and Master Git & Github from zero to Hero\\1. Introduction\\37. Local tags.vtt\n",
      "C:/Users/shaur/OneDrive/Desktop/Courses\\Learn and Master Git & Github from zero to Hero\\Learn and Master Git & Github from zero to Hero\\[Tutsgalaxy.com] - Learn and Master Git & Github from zero to Hero\\1. Introduction\\38. Push tags.mp4\n",
      "C:/Users/shaur/OneDrive/Desktop/Courses\\Learn and Master Git & Github from zero to Hero\\Learn and Master Git & Github from zero to Hero\\[Tutsgalaxy.com] - Learn and Master Git & Github from zero to Hero\\1. Introduction\\38. Push tags.vtt\n",
      "C:/Users/shaur/OneDrive/Desktop/Courses\\Learn and Master Git & Github from zero to Hero\\Learn and Master Git & Github from zero to Hero\\[Tutsgalaxy.com] - Learn and Master Git & Github from zero to Hero\\1. Introduction\\39. Delete tags from github.mp4\n",
      "C:/Users/shaur/OneDrive/Desktop/Courses\\Learn and Master Git & Github from zero to Hero\\Learn and Master Git & Github from zero to Hero\\[Tutsgalaxy.com] - Learn and Master Git & Github from zero to Hero\\1. Introduction\\39. Delete tags from github.vtt\n",
      "C:/Users/shaur/OneDrive/Desktop/Courses\\Learn and Master Git & Github from zero to Hero\\Learn and Master Git & Github from zero to Hero\\[Tutsgalaxy.com] - Learn and Master Git & Github from zero to Hero\\1. Introduction\\4. Repository.mp4\n",
      "C:/Users/shaur/OneDrive/Desktop/Courses\\Learn and Master Git & Github from zero to Hero\\Learn and Master Git & Github from zero to Hero\\[Tutsgalaxy.com] - Learn and Master Git & Github from zero to Hero\\1. Introduction\\4. Repository.vtt\n",
      "C:/Users/shaur/OneDrive/Desktop/Courses\\Learn and Master Git & Github from zero to Hero\\Learn and Master Git & Github from zero to Hero\\[Tutsgalaxy.com] - Learn and Master Git & Github from zero to Hero\\1. Introduction\\40. Edite tags.mp4\n",
      "C:/Users/shaur/OneDrive/Desktop/Courses\\Learn and Master Git & Github from zero to Hero\\Learn and Master Git & Github from zero to Hero\\[Tutsgalaxy.com] - Learn and Master Git & Github from zero to Hero\\1. Introduction\\40. Edite tags.vtt\n",
      "C:/Users/shaur/OneDrive/Desktop/Courses\\Learn and Master Git & Github from zero to Hero\\Learn and Master Git & Github from zero to Hero\\[Tutsgalaxy.com] - Learn and Master Git & Github from zero to Hero\\1. Introduction\\41. Create release.mp4\n",
      "C:/Users/shaur/OneDrive/Desktop/Courses\\Learn and Master Git & Github from zero to Hero\\Learn and Master Git & Github from zero to Hero\\[Tutsgalaxy.com] - Learn and Master Git & Github from zero to Hero\\1. Introduction\\41. Create release.vtt\n",
      "C:/Users/shaur/OneDrive/Desktop/Courses\\Learn and Master Git & Github from zero to Hero\\Learn and Master Git & Github from zero to Hero\\[Tutsgalaxy.com] - Learn and Master Git & Github from zero to Hero\\1. Introduction\\42. Delete release.mp4\n",
      "C:/Users/shaur/OneDrive/Desktop/Courses\\Learn and Master Git & Github from zero to Hero\\Learn and Master Git & Github from zero to Hero\\[Tutsgalaxy.com] - Learn and Master Git & Github from zero to Hero\\1. Introduction\\42. Delete release.vtt\n",
      "C:/Users/shaur/OneDrive/Desktop/Courses\\Learn and Master Git & Github from zero to Hero\\Learn and Master Git & Github from zero to Hero\\[Tutsgalaxy.com] - Learn and Master Git & Github from zero to Hero\\1. Introduction\\44. Compare between commit.mp4\n",
      "C:/Users/shaur/OneDrive/Desktop/Courses\\Learn and Master Git & Github from zero to Hero\\Learn and Master Git & Github from zero to Hero\\[Tutsgalaxy.com] - Learn and Master Git & Github from zero to Hero\\1. Introduction\\44. Compare between commit.vtt\n",
      "C:/Users/shaur/OneDrive/Desktop/Courses\\Learn and Master Git & Github from zero to Hero\\Learn and Master Git & Github from zero to Hero\\[Tutsgalaxy.com] - Learn and Master Git & Github from zero to Hero\\1. Introduction\\45. Compare between tags.mp4\n",
      "C:/Users/shaur/OneDrive/Desktop/Courses\\Learn and Master Git & Github from zero to Hero\\Learn and Master Git & Github from zero to Hero\\[Tutsgalaxy.com] - Learn and Master Git & Github from zero to Hero\\1. Introduction\\45. Compare between tags.vtt\n",
      "C:/Users/shaur/OneDrive/Desktop/Courses\\Learn and Master Git & Github from zero to Hero\\Learn and Master Git & Github from zero to Hero\\[Tutsgalaxy.com] - Learn and Master Git & Github from zero to Hero\\1. Introduction\\46. Advance comparison.mp4\n",
      "C:/Users/shaur/OneDrive/Desktop/Courses\\Learn and Master Git & Github from zero to Hero\\Learn and Master Git & Github from zero to Hero\\[Tutsgalaxy.com] - Learn and Master Git & Github from zero to Hero\\1. Introduction\\46. Advance comparison.vtt\n",
      "C:/Users/shaur/OneDrive/Desktop/Courses\\Learn and Master Git & Github from zero to Hero\\Learn and Master Git & Github from zero to Hero\\[Tutsgalaxy.com] - Learn and Master Git & Github from zero to Hero\\1. Introduction\\47. Fork.mp4\n",
      "C:/Users/shaur/OneDrive/Desktop/Courses\\Learn and Master Git & Github from zero to Hero\\Learn and Master Git & Github from zero to Hero\\[Tutsgalaxy.com] - Learn and Master Git & Github from zero to Hero\\1. Introduction\\47. Fork.vtt\n",
      "C:/Users/shaur/OneDrive/Desktop/Courses\\Learn and Master Git & Github from zero to Hero\\Learn and Master Git & Github from zero to Hero\\[Tutsgalaxy.com] - Learn and Master Git & Github from zero to Hero\\1. Introduction\\48. Branch with fork.mp4\n",
      "C:/Users/shaur/OneDrive/Desktop/Courses\\Learn and Master Git & Github from zero to Hero\\Learn and Master Git & Github from zero to Hero\\[Tutsgalaxy.com] - Learn and Master Git & Github from zero to Hero\\1. Introduction\\48. Branch with fork.vtt\n",
      "C:/Users/shaur/OneDrive/Desktop/Courses\\Learn and Master Git & Github from zero to Hero\\Learn and Master Git & Github from zero to Hero\\[Tutsgalaxy.com] - Learn and Master Git & Github from zero to Hero\\1. Introduction\\49. Github graph.mp4\n",
      "C:/Users/shaur/OneDrive/Desktop/Courses\\Learn and Master Git & Github from zero to Hero\\Learn and Master Git & Github from zero to Hero\\[Tutsgalaxy.com] - Learn and Master Git & Github from zero to Hero\\1. Introduction\\49. Github graph.vtt\n",
      "C:/Users/shaur/OneDrive/Desktop/Courses\\Learn and Master Git & Github from zero to Hero\\Learn and Master Git & Github from zero to Hero\\[Tutsgalaxy.com] - Learn and Master Git & Github from zero to Hero\\1. Introduction\\5. Tracker.mp4\n",
      "C:/Users/shaur/OneDrive/Desktop/Courses\\Learn and Master Git & Github from zero to Hero\\Learn and Master Git & Github from zero to Hero\\[Tutsgalaxy.com] - Learn and Master Git & Github from zero to Hero\\1. Introduction\\5. Tracker.vtt\n",
      "C:/Users/shaur/OneDrive/Desktop/Courses\\Learn and Master Git & Github from zero to Hero\\Learn and Master Git & Github from zero to Hero\\[Tutsgalaxy.com] - Learn and Master Git & Github from zero to Hero\\1. Introduction\\50. Add contributor.mp4\n",
      "C:/Users/shaur/OneDrive/Desktop/Courses\\Learn and Master Git & Github from zero to Hero\\Learn and Master Git & Github from zero to Hero\\[Tutsgalaxy.com] - Learn and Master Git & Github from zero to Hero\\1. Introduction\\50. Add contributor.vtt\n",
      "C:/Users/shaur/OneDrive/Desktop/Courses\\Learn and Master Git & Github from zero to Hero\\Learn and Master Git & Github from zero to Hero\\[Tutsgalaxy.com] - Learn and Master Git & Github from zero to Hero\\1. Introduction\\51. Labels and milestones.mp4\n",
      "C:/Users/shaur/OneDrive/Desktop/Courses\\Learn and Master Git & Github from zero to Hero\\Learn and Master Git & Github from zero to Hero\\[Tutsgalaxy.com] - Learn and Master Git & Github from zero to Hero\\1. Introduction\\51. Labels and milestones.vtt\n",
      "C:/Users/shaur/OneDrive/Desktop/Courses\\Learn and Master Git & Github from zero to Hero\\Learn and Master Git & Github from zero to Hero\\[Tutsgalaxy.com] - Learn and Master Git & Github from zero to Hero\\1. Introduction\\52. Create issue.mp4\n",
      "C:/Users/shaur/OneDrive/Desktop/Courses\\Learn and Master Git & Github from zero to Hero\\Learn and Master Git & Github from zero to Hero\\[Tutsgalaxy.com] - Learn and Master Git & Github from zero to Hero\\1. Introduction\\52. Create issue.vtt\n",
      "C:/Users/shaur/OneDrive/Desktop/Courses\\Learn and Master Git & Github from zero to Hero\\Learn and Master Git & Github from zero to Hero\\[Tutsgalaxy.com] - Learn and Master Git & Github from zero to Hero\\1. Introduction\\53. Close issue.mp4\n",
      "C:/Users/shaur/OneDrive/Desktop/Courses\\Learn and Master Git & Github from zero to Hero\\Learn and Master Git & Github from zero to Hero\\[Tutsgalaxy.com] - Learn and Master Git & Github from zero to Hero\\1. Introduction\\53. Close issue.vtt\n",
      "C:/Users/shaur/OneDrive/Desktop/Courses\\Learn and Master Git & Github from zero to Hero\\Learn and Master Git & Github from zero to Hero\\[Tutsgalaxy.com] - Learn and Master Git & Github from zero to Hero\\1. Introduction\\54. Associate commit with issue.mp4\n",
      "C:/Users/shaur/OneDrive/Desktop/Courses\\Learn and Master Git & Github from zero to Hero\\Learn and Master Git & Github from zero to Hero\\[Tutsgalaxy.com] - Learn and Master Git & Github from zero to Hero\\1. Introduction\\54. Associate commit with issue.vtt\n",
      "C:/Users/shaur/OneDrive/Desktop/Courses\\Learn and Master Git & Github from zero to Hero\\Learn and Master Git & Github from zero to Hero\\[Tutsgalaxy.com] - Learn and Master Git & Github from zero to Hero\\1. Introduction\\6. Log and show.mp4\n",
      "C:/Users/shaur/OneDrive/Desktop/Courses\\Learn and Master Git & Github from zero to Hero\\Learn and Master Git & Github from zero to Hero\\[Tutsgalaxy.com] - Learn and Master Git & Github from zero to Hero\\1. Introduction\\6. Log and show.vtt\n",
      "C:/Users/shaur/OneDrive/Desktop/Courses\\Learn and Master Git & Github from zero to Hero\\Learn and Master Git & Github from zero to Hero\\[Tutsgalaxy.com] - Learn and Master Git & Github from zero to Hero\\1. Introduction\\7. Express commit.mp4\n",
      "C:/Users/shaur/OneDrive/Desktop/Courses\\Learn and Master Git & Github from zero to Hero\\Learn and Master Git & Github from zero to Hero\\[Tutsgalaxy.com] - Learn and Master Git & Github from zero to Hero\\1. Introduction\\7. Express commit.vtt\n",
      "C:/Users/shaur/OneDrive/Desktop/Courses\\Learn and Master Git & Github from zero to Hero\\Learn and Master Git & Github from zero to Hero\\[Tutsgalaxy.com] - Learn and Master Git & Github from zero to Hero\\1. Introduction\\8. Go back checkout.mp4\n",
      "C:/Users/shaur/OneDrive/Desktop/Courses\\Learn and Master Git & Github from zero to Hero\\Learn and Master Git & Github from zero to Hero\\[Tutsgalaxy.com] - Learn and Master Git & Github from zero to Hero\\1. Introduction\\8. Go back checkout.vtt\n",
      "C:/Users/shaur/OneDrive/Desktop/Courses\\Learn and Master Git & Github from zero to Hero\\Learn and Master Git & Github from zero to Hero\\[Tutsgalaxy.com] - Learn and Master Git & Github from zero to Hero\\1. Introduction\\9. Alias.mp4\n",
      "C:/Users/shaur/OneDrive/Desktop/Courses\\Learn and Master Git & Github from zero to Hero\\Learn and Master Git & Github from zero to Hero\\[Tutsgalaxy.com] - Learn and Master Git & Github from zero to Hero\\1. Introduction\\9. Alias.vtt\n",
      "C:/Users/shaur/OneDrive/Desktop/Courses\\Learn and Master Git & Github from zero to Hero\\Learn and Master Git & Github from zero to Hero.zip\n",
      "C:/Users/shaur/OneDrive/Desktop/Courses\\Learn and Master Git & Github from zero to Hero\\TutsGalaxy.com.txt\n",
      "C:/Users/shaur/OneDrive/Desktop/Courses\\[Howtofree.org]  - Docker Masterclass for Machine Learning and Data Science\\[Howtofree.org]  - Docker Masterclass for Machine Learning and Data Science\\1. Welcome\\1. Welcome!.mp4\n",
      "C:/Users/shaur/OneDrive/Desktop/Courses\\[Howtofree.org]  - Docker Masterclass for Machine Learning and Data Science\\[Howtofree.org]  - Docker Masterclass for Machine Learning and Data Science\\1. Welcome\\1. Welcome!.srt\n",
      "C:/Users/shaur/OneDrive/Desktop/Courses\\[Howtofree.org]  - Docker Masterclass for Machine Learning and Data Science\\[Howtofree.org]  - Docker Masterclass for Machine Learning and Data Science\\1. Welcome\\DownloadFreeCourses.url\n",
      "C:/Users/shaur/OneDrive/Desktop/Courses\\[Howtofree.org]  - Docker Masterclass for Machine Learning and Data Science\\[Howtofree.org]  - Docker Masterclass for Machine Learning and Data Science\\1. Welcome\\HowToFree.Org.url\n",
      "C:/Users/shaur/OneDrive/Desktop/Courses\\[Howtofree.org]  - Docker Masterclass for Machine Learning and Data Science\\[Howtofree.org]  - Docker Masterclass for Machine Learning and Data Science\\10. AWS\\1. AWS EC2 Setup Tips.html\n",
      "C:/Users/shaur/OneDrive/Desktop/Courses\\[Howtofree.org]  - Docker Masterclass for Machine Learning and Data Science\\[Howtofree.org]  - Docker Masterclass for Machine Learning and Data Science\\10. AWS\\2. AWS Part One.mp4\n",
      "C:/Users/shaur/OneDrive/Desktop/Courses\\[Howtofree.org]  - Docker Masterclass for Machine Learning and Data Science\\[Howtofree.org]  - Docker Masterclass for Machine Learning and Data Science\\10. AWS\\2. AWS Part One.srt\n",
      "C:/Users/shaur/OneDrive/Desktop/Courses\\[Howtofree.org]  - Docker Masterclass for Machine Learning and Data Science\\[Howtofree.org]  - Docker Masterclass for Machine Learning and Data Science\\10. AWS\\3. AWS Part Two.mp4\n",
      "C:/Users/shaur/OneDrive/Desktop/Courses\\[Howtofree.org]  - Docker Masterclass for Machine Learning and Data Science\\[Howtofree.org]  - Docker Masterclass for Machine Learning and Data Science\\10. AWS\\3. AWS Part Two.srt\n",
      "C:/Users/shaur/OneDrive/Desktop/Courses\\[Howtofree.org]  - Docker Masterclass for Machine Learning and Data Science\\[Howtofree.org]  - Docker Masterclass for Machine Learning and Data Science\\10. AWS\\4. AWS Part Three.mp4\n",
      "C:/Users/shaur/OneDrive/Desktop/Courses\\[Howtofree.org]  - Docker Masterclass for Machine Learning and Data Science\\[Howtofree.org]  - Docker Masterclass for Machine Learning and Data Science\\10. AWS\\4. AWS Part Three.srt\n",
      "C:/Users/shaur/OneDrive/Desktop/Courses\\[Howtofree.org]  - Docker Masterclass for Machine Learning and Data Science\\[Howtofree.org]  - Docker Masterclass for Machine Learning and Data Science\\10. AWS\\5. AWS Part Four.mp4\n",
      "C:/Users/shaur/OneDrive/Desktop/Courses\\[Howtofree.org]  - Docker Masterclass for Machine Learning and Data Science\\[Howtofree.org]  - Docker Masterclass for Machine Learning and Data Science\\10. AWS\\5. AWS Part Four.srt\n",
      "C:/Users/shaur/OneDrive/Desktop/Courses\\[Howtofree.org]  - Docker Masterclass for Machine Learning and Data Science\\[Howtofree.org]  - Docker Masterclass for Machine Learning and Data Science\\10. AWS\\6. AWS Extras.mp4\n",
      "C:/Users/shaur/OneDrive/Desktop/Courses\\[Howtofree.org]  - Docker Masterclass for Machine Learning and Data Science\\[Howtofree.org]  - Docker Masterclass for Machine Learning and Data Science\\10. AWS\\6. AWS Extras.srt\n",
      "C:/Users/shaur/OneDrive/Desktop/Courses\\[Howtofree.org]  - Docker Masterclass for Machine Learning and Data Science\\[Howtofree.org]  - Docker Masterclass for Machine Learning and Data Science\\11. Security\\1. Docker Security - CVE.mp4\n",
      "C:/Users/shaur/OneDrive/Desktop/Courses\\[Howtofree.org]  - Docker Masterclass for Machine Learning and Data Science\\[Howtofree.org]  - Docker Masterclass for Machine Learning and Data Science\\11. Security\\1. Docker Security - CVE.srt\n",
      "C:/Users/shaur/OneDrive/Desktop/Courses\\[Howtofree.org]  - Docker Masterclass for Machine Learning and Data Science\\[Howtofree.org]  - Docker Masterclass for Machine Learning and Data Science\\11. Security\\2. Docker Security - OWASP.mp4\n",
      "C:/Users/shaur/OneDrive/Desktop/Courses\\[Howtofree.org]  - Docker Masterclass for Machine Learning and Data Science\\[Howtofree.org]  - Docker Masterclass for Machine Learning and Data Science\\11. Security\\2. Docker Security - OWASP.srt\n",
      "C:/Users/shaur/OneDrive/Desktop/Courses\\[Howtofree.org]  - Docker Masterclass for Machine Learning and Data Science\\[Howtofree.org]  - Docker Masterclass for Machine Learning and Data Science\\11. Security\\3. Docker Security Scan.mp4\n",
      "C:/Users/shaur/OneDrive/Desktop/Courses\\[Howtofree.org]  - Docker Masterclass for Machine Learning and Data Science\\[Howtofree.org]  - Docker Masterclass for Machine Learning and Data Science\\11. Security\\3. Docker Security Scan.srt\n",
      "C:/Users/shaur/OneDrive/Desktop/Courses\\[Howtofree.org]  - Docker Masterclass for Machine Learning and Data Science\\[Howtofree.org]  - Docker Masterclass for Machine Learning and Data Science\\11. Security\\4. Docker Security Extra Resources.html\n",
      "C:/Users/shaur/OneDrive/Desktop/Courses\\[Howtofree.org]  - Docker Masterclass for Machine Learning and Data Science\\[Howtofree.org]  - Docker Masterclass for Machine Learning and Data Science\\12. Maintenance & Monitoring\\DownloadFreeCourses.url\n",
      "C:/Users/shaur/OneDrive/Desktop/Courses\\[Howtofree.org]  - Docker Masterclass for Machine Learning and Data Science\\[Howtofree.org]  - Docker Masterclass for Machine Learning and Data Science\\12. Maintenance & Monitoring\\HowToFree.Org.url\n",
      "C:/Users/shaur/OneDrive/Desktop/Courses\\[Howtofree.org]  - Docker Masterclass for Machine Learning and Data Science\\[Howtofree.org]  - Docker Masterclass for Machine Learning and Data Science\\13. Final\\1. Thank You!.mp4\n",
      "C:/Users/shaur/OneDrive/Desktop/Courses\\[Howtofree.org]  - Docker Masterclass for Machine Learning and Data Science\\[Howtofree.org]  - Docker Masterclass for Machine Learning and Data Science\\13. Final\\1. Thank You!.srt\n",
      "C:/Users/shaur/OneDrive/Desktop/Courses\\[Howtofree.org]  - Docker Masterclass for Machine Learning and Data Science\\[Howtofree.org]  - Docker Masterclass for Machine Learning and Data Science\\13. Final\\2. Community Note.html\n",
      "C:/Users/shaur/OneDrive/Desktop/Courses\\[Howtofree.org]  - Docker Masterclass for Machine Learning and Data Science\\[Howtofree.org]  - Docker Masterclass for Machine Learning and Data Science\\14. Course Vault\\1. Notes.html\n",
      "C:/Users/shaur/OneDrive/Desktop/Courses\\[Howtofree.org]  - Docker Masterclass for Machine Learning and Data Science\\[Howtofree.org]  - Docker Masterclass for Machine Learning and Data Science\\14. Course Vault\\2. Kubernetes Intro.mp4\n",
      "C:/Users/shaur/OneDrive/Desktop/Courses\\[Howtofree.org]  - Docker Masterclass for Machine Learning and Data Science\\[Howtofree.org]  - Docker Masterclass for Machine Learning and Data Science\\14. Course Vault\\2. Kubernetes Intro.srt\n",
      "C:/Users/shaur/OneDrive/Desktop/Courses\\[Howtofree.org]  - Docker Masterclass for Machine Learning and Data Science\\[Howtofree.org]  - Docker Masterclass for Machine Learning and Data Science\\14. Course Vault\\3. Kubernetes Notes.html\n",
      "C:/Users/shaur/OneDrive/Desktop/Courses\\[Howtofree.org]  - Docker Masterclass for Machine Learning and Data Science\\[Howtofree.org]  - Docker Masterclass for Machine Learning and Data Science\\14. Course Vault\\4. Kubernetes Demo.mp4\n",
      "C:/Users/shaur/OneDrive/Desktop/Courses\\[Howtofree.org]  - Docker Masterclass for Machine Learning and Data Science\\[Howtofree.org]  - Docker Masterclass for Machine Learning and Data Science\\14. Course Vault\\4. Kubernetes Demo.srt\n",
      "C:/Users/shaur/OneDrive/Desktop/Courses\\[Howtofree.org]  - Docker Masterclass for Machine Learning and Data Science\\[Howtofree.org]  - Docker Masterclass for Machine Learning and Data Science\\14. Course Vault\\5. The Legend of Docker.html\n",
      "C:/Users/shaur/OneDrive/Desktop/Courses\\[Howtofree.org]  - Docker Masterclass for Machine Learning and Data Science\\[Howtofree.org]  - Docker Masterclass for Machine Learning and Data Science\\14. Course Vault\\DownloadFreeCourses.url\n",
      "C:/Users/shaur/OneDrive/Desktop/Courses\\[Howtofree.org]  - Docker Masterclass for Machine Learning and Data Science\\[Howtofree.org]  - Docker Masterclass for Machine Learning and Data Science\\14. Course Vault\\HowToFree.Org.url\n",
      "C:/Users/shaur/OneDrive/Desktop/Courses\\[Howtofree.org]  - Docker Masterclass for Machine Learning and Data Science\\[Howtofree.org]  - Docker Masterclass for Machine Learning and Data Science\\2. Introduction\\1. Study Tips For Success.html\n",
      "C:/Users/shaur/OneDrive/Desktop/Courses\\[Howtofree.org]  - Docker Masterclass for Machine Learning and Data Science\\[Howtofree.org]  - Docker Masterclass for Machine Learning and Data Science\\2. Introduction\\10. Why Anaconda.html\n",
      "C:/Users/shaur/OneDrive/Desktop/Courses\\[Howtofree.org]  - Docker Masterclass for Machine Learning and Data Science\\[Howtofree.org]  - Docker Masterclass for Machine Learning and Data Science\\2. Introduction\\11. Virtual Environment.mp4\n",
      "C:/Users/shaur/OneDrive/Desktop/Courses\\[Howtofree.org]  - Docker Masterclass for Machine Learning and Data Science\\[Howtofree.org]  - Docker Masterclass for Machine Learning and Data Science\\2. Introduction\\11. Virtual Environment.srt\n",
      "C:/Users/shaur/OneDrive/Desktop/Courses\\[Howtofree.org]  - Docker Masterclass for Machine Learning and Data Science\\[Howtofree.org]  - Docker Masterclass for Machine Learning and Data Science\\2. Introduction\\12. Downloadables.html\n",
      "C:/Users/shaur/OneDrive/Desktop/Courses\\[Howtofree.org]  - Docker Masterclass for Machine Learning and Data Science\\[Howtofree.org]  - Docker Masterclass for Machine Learning and Data Science\\2. Introduction\\12.1 Introduction Recap.pdf\n",
      "C:/Users/shaur/OneDrive/Desktop/Courses\\[Howtofree.org]  - Docker Masterclass for Machine Learning and Data Science\\[Howtofree.org]  - Docker Masterclass for Machine Learning and Data Science\\2. Introduction\\3. What is Docker.mp4\n",
      "C:/Users/shaur/OneDrive/Desktop/Courses\\[Howtofree.org]  - Docker Masterclass for Machine Learning and Data Science\\[Howtofree.org]  - Docker Masterclass for Machine Learning and Data Science\\2. Introduction\\3. What is Docker.srt\n",
      "C:/Users/shaur/OneDrive/Desktop/Courses\\[Howtofree.org]  - Docker Masterclass for Machine Learning and Data Science\\[Howtofree.org]  - Docker Masterclass for Machine Learning and Data Science\\2. Introduction\\4. What is a Container.mp4\n",
      "C:/Users/shaur/OneDrive/Desktop/Courses\\[Howtofree.org]  - Docker Masterclass for Machine Learning and Data Science\\[Howtofree.org]  - Docker Masterclass for Machine Learning and Data Science\\2. Introduction\\4. What is a Container.srt\n",
      "C:/Users/shaur/OneDrive/Desktop/Courses\\[Howtofree.org]  - Docker Masterclass for Machine Learning and Data Science\\[Howtofree.org]  - Docker Masterclass for Machine Learning and Data Science\\2. Introduction\\5. Useful Docker Info.mp4\n",
      "C:/Users/shaur/OneDrive/Desktop/Courses\\[Howtofree.org]  - Docker Masterclass for Machine Learning and Data Science\\[Howtofree.org]  - Docker Masterclass for Machine Learning and Data Science\\2. Introduction\\5. Useful Docker Info.srt\n",
      "C:/Users/shaur/OneDrive/Desktop/Courses\\[Howtofree.org]  - Docker Masterclass for Machine Learning and Data Science\\[Howtofree.org]  - Docker Masterclass for Machine Learning and Data Science\\2. Introduction\\6. Installing Docker.mp4\n",
      "C:/Users/shaur/OneDrive/Desktop/Courses\\[Howtofree.org]  - Docker Masterclass for Machine Learning and Data Science\\[Howtofree.org]  - Docker Masterclass for Machine Learning and Data Science\\2. Introduction\\6. Installing Docker.srt\n",
      "C:/Users/shaur/OneDrive/Desktop/Courses\\[Howtofree.org]  - Docker Masterclass for Machine Learning and Data Science\\[Howtofree.org]  - Docker Masterclass for Machine Learning and Data Science\\2. Introduction\\7. Installing Docker for Linux.html\n",
      "C:/Users/shaur/OneDrive/Desktop/Courses\\[Howtofree.org]  - Docker Masterclass for Machine Learning and Data Science\\[Howtofree.org]  - Docker Masterclass for Machine Learning and Data Science\\2. Introduction\\8. How Docker Is Useful For Data Science.html\n",
      "C:/Users/shaur/OneDrive/Desktop/Courses\\[Howtofree.org]  - Docker Masterclass for Machine Learning and Data Science\\[Howtofree.org]  - Docker Masterclass for Machine Learning and Data Science\\2. Introduction\\9. Installing Anaconda.mp4\n",
      "C:/Users/shaur/OneDrive/Desktop/Courses\\[Howtofree.org]  - Docker Masterclass for Machine Learning and Data Science\\[Howtofree.org]  - Docker Masterclass for Machine Learning and Data Science\\2. Introduction\\9. Installing Anaconda.srt\n",
      "C:/Users/shaur/OneDrive/Desktop/Courses\\[Howtofree.org]  - Docker Masterclass for Machine Learning and Data Science\\[Howtofree.org]  - Docker Masterclass for Machine Learning and Data Science\\3. Working With Docker - Basics\\1. Download The Files.html\n",
      "C:/Users/shaur/OneDrive/Desktop/Courses\\[Howtofree.org]  - Docker Masterclass for Machine Learning and Data Science\\[Howtofree.org]  - Docker Masterclass for Machine Learning and Data Science\\3. Working With Docker - Basics\\2. Set Up A Simple Flask App.mp4\n",
      "C:/Users/shaur/OneDrive/Desktop/Courses\\[Howtofree.org]  - Docker Masterclass for Machine Learning and Data Science\\[Howtofree.org]  - Docker Masterclass for Machine Learning and Data Science\\3. Working With Docker - Basics\\2. Set Up A Simple Flask App.srt\n",
      "C:/Users/shaur/OneDrive/Desktop/Courses\\[Howtofree.org]  - Docker Masterclass for Machine Learning and Data Science\\[Howtofree.org]  - Docker Masterclass for Machine Learning and Data Science\\3. Working With Docker - Basics\\2.1 Test App Docker .zip\n",
      "C:/Users/shaur/OneDrive/Desktop/Courses\\[Howtofree.org]  - Docker Masterclass for Machine Learning and Data Science\\[Howtofree.org]  - Docker Masterclass for Machine Learning and Data Science\\3. Working With Docker - Basics\\3. Dockerfile.mp4\n",
      "C:/Users/shaur/OneDrive/Desktop/Courses\\[Howtofree.org]  - Docker Masterclass for Machine Learning and Data Science\\[Howtofree.org]  - Docker Masterclass for Machine Learning and Data Science\\3. Working With Docker - Basics\\3. Dockerfile.srt\n",
      "C:/Users/shaur/OneDrive/Desktop/Courses\\[Howtofree.org]  - Docker Masterclass for Machine Learning and Data Science\\[Howtofree.org]  - Docker Masterclass for Machine Learning and Data Science\\3. Working With Docker - Basics\\4. Requirements.txt.mp4\n",
      "C:/Users/shaur/OneDrive/Desktop/Courses\\[Howtofree.org]  - Docker Masterclass for Machine Learning and Data Science\\[Howtofree.org]  - Docker Masterclass for Machine Learning and Data Science\\3. Working With Docker - Basics\\4. Requirements.txt.srt\n",
      "C:/Users/shaur/OneDrive/Desktop/Courses\\[Howtofree.org]  - Docker Masterclass for Machine Learning and Data Science\\[Howtofree.org]  - Docker Masterclass for Machine Learning and Data Science\\3. Working With Docker - Basics\\6. What Ports To Use.html\n",
      "C:/Users/shaur/OneDrive/Desktop/Courses\\[Howtofree.org]  - Docker Masterclass for Machine Learning and Data Science\\[Howtofree.org]  - Docker Masterclass for Machine Learning and Data Science\\3. Working With Docker - Basics\\7. Common Docker Commands.mp4\n",
      "C:/Users/shaur/OneDrive/Desktop/Courses\\[Howtofree.org]  - Docker Masterclass for Machine Learning and Data Science\\[Howtofree.org]  - Docker Masterclass for Machine Learning and Data Science\\3. Working With Docker - Basics\\7. Common Docker Commands.srt\n",
      "C:/Users/shaur/OneDrive/Desktop/Courses\\[Howtofree.org]  - Docker Masterclass for Machine Learning and Data Science\\[Howtofree.org]  - Docker Masterclass for Machine Learning and Data Science\\3. Working With Docker - Basics\\8. Docker Commands Cheatsheet.html\n",
      "C:/Users/shaur/OneDrive/Desktop/Courses\\[Howtofree.org]  - Docker Masterclass for Machine Learning and Data Science\\[Howtofree.org]  - Docker Masterclass for Machine Learning and Data Science\\3. Working With Docker - Basics\\9. Quiz.html\n",
      "C:/Users/shaur/OneDrive/Desktop/Courses\\[Howtofree.org]  - Docker Masterclass for Machine Learning and Data Science\\[Howtofree.org]  - Docker Masterclass for Machine Learning and Data Science\\3. Working With Docker - Basics\\DownloadFreeCourses.url\n",
      "C:/Users/shaur/OneDrive/Desktop/Courses\\[Howtofree.org]  - Docker Masterclass for Machine Learning and Data Science\\[Howtofree.org]  - Docker Masterclass for Machine Learning and Data Science\\3. Working With Docker - Basics\\HowToFree.Org.url\n",
      "C:/Users/shaur/OneDrive/Desktop/Courses\\[Howtofree.org]  - Docker Masterclass for Machine Learning and Data Science\\[Howtofree.org]  - Docker Masterclass for Machine Learning and Data Science\\4. DockerHub\\1. Sign Up.mp4\n",
      "C:/Users/shaur/OneDrive/Desktop/Courses\\[Howtofree.org]  - Docker Masterclass for Machine Learning and Data Science\\[Howtofree.org]  - Docker Masterclass for Machine Learning and Data Science\\4. DockerHub\\1. Sign Up.srt\n",
      "C:/Users/shaur/OneDrive/Desktop/Courses\\[Howtofree.org]  - Docker Masterclass for Machine Learning and Data Science\\[Howtofree.org]  - Docker Masterclass for Machine Learning and Data Science\\4. DockerHub\\2. Docker Hub Push Image.mp4\n",
      "C:/Users/shaur/OneDrive/Desktop/Courses\\[Howtofree.org]  - Docker Masterclass for Machine Learning and Data Science\\[Howtofree.org]  - Docker Masterclass for Machine Learning and Data Science\\4. DockerHub\\2. Docker Hub Push Image.srt\n",
      "C:/Users/shaur/OneDrive/Desktop/Courses\\[Howtofree.org]  - Docker Masterclass for Machine Learning and Data Science\\[Howtofree.org]  - Docker Masterclass for Machine Learning and Data Science\\4. DockerHub\\3. Docker Hub Pull Image.mp4\n",
      "C:/Users/shaur/OneDrive/Desktop/Courses\\[Howtofree.org]  - Docker Masterclass for Machine Learning and Data Science\\[Howtofree.org]  - Docker Masterclass for Machine Learning and Data Science\\4. DockerHub\\3. Docker Hub Pull Image.srt\n",
      "C:/Users/shaur/OneDrive/Desktop/Courses\\[Howtofree.org]  - Docker Masterclass for Machine Learning and Data Science\\[Howtofree.org]  - Docker Masterclass for Machine Learning and Data Science\\4. DockerHub\\4. Updating Image.mp4\n",
      "C:/Users/shaur/OneDrive/Desktop/Courses\\[Howtofree.org]  - Docker Masterclass for Machine Learning and Data Science\\[Howtofree.org]  - Docker Masterclass for Machine Learning and Data Science\\4. DockerHub\\4. Updating Image.srt\n",
      "C:/Users/shaur/OneDrive/Desktop/Courses\\[Howtofree.org]  - Docker Masterclass for Machine Learning and Data Science\\[Howtofree.org]  - Docker Masterclass for Machine Learning and Data Science\\4. DockerHub\\5. Section Recap Notes.html\n",
      "C:/Users/shaur/OneDrive/Desktop/Courses\\[Howtofree.org]  - Docker Masterclass for Machine Learning and Data Science\\[Howtofree.org]  - Docker Masterclass for Machine Learning and Data Science\\4. DockerHub\\5.1 Docker Hub Recap Notes.pdf\n",
      "C:/Users/shaur/OneDrive/Desktop/Courses\\[Howtofree.org]  - Docker Masterclass for Machine Learning and Data Science\\[Howtofree.org]  - Docker Masterclass for Machine Learning and Data Science\\4. DockerHub\\6. Extra - Extending An Image.mp4\n",
      "C:/Users/shaur/OneDrive/Desktop/Courses\\[Howtofree.org]  - Docker Masterclass for Machine Learning and Data Science\\[Howtofree.org]  - Docker Masterclass for Machine Learning and Data Science\\4. DockerHub\\6. Extra - Extending An Image.srt\n",
      "C:/Users/shaur/OneDrive/Desktop/Courses\\[Howtofree.org]  - Docker Masterclass for Machine Learning and Data Science\\[Howtofree.org]  - Docker Masterclass for Machine Learning and Data Science\\4. DockerHub\\7. Volumes.mp4\n",
      "C:/Users/shaur/OneDrive/Desktop/Courses\\[Howtofree.org]  - Docker Masterclass for Machine Learning and Data Science\\[Howtofree.org]  - Docker Masterclass for Machine Learning and Data Science\\4. DockerHub\\7. Volumes.srt\n",
      "C:/Users/shaur/OneDrive/Desktop/Courses\\[Howtofree.org]  - Docker Masterclass for Machine Learning and Data Science\\[Howtofree.org]  - Docker Masterclass for Machine Learning and Data Science\\4. DockerHub\\8. Testing a Volume.mp4\n",
      "C:/Users/shaur/OneDrive/Desktop/Courses\\[Howtofree.org]  - Docker Masterclass for Machine Learning and Data Science\\[Howtofree.org]  - Docker Masterclass for Machine Learning and Data Science\\4. DockerHub\\8. Testing a Volume.srt\n",
      "C:/Users/shaur/OneDrive/Desktop/Courses\\[Howtofree.org]  - Docker Masterclass for Machine Learning and Data Science\\[Howtofree.org]  - Docker Masterclass for Machine Learning and Data Science\\4. DockerHub\\9. Section Quiz.html\n",
      "C:/Users/shaur/OneDrive/Desktop/Courses\\[Howtofree.org]  - Docker Masterclass for Machine Learning and Data Science\\[Howtofree.org]  - Docker Masterclass for Machine Learning and Data Science\\4. DockerHub\\DownloadFreeCourses.url\n",
      "C:/Users/shaur/OneDrive/Desktop/Courses\\[Howtofree.org]  - Docker Masterclass for Machine Learning and Data Science\\[Howtofree.org]  - Docker Masterclass for Machine Learning and Data Science\\4. DockerHub\\HowToFree.Org.url\n",
      "C:/Users/shaur/OneDrive/Desktop/Courses\\[Howtofree.org]  - Docker Masterclass for Machine Learning and Data Science\\[Howtofree.org]  - Docker Masterclass for Machine Learning and Data Science\\5. Challenge\\1. Challenge Intro.mp4\n",
      "C:/Users/shaur/OneDrive/Desktop/Courses\\[Howtofree.org]  - Docker Masterclass for Machine Learning and Data Science\\[Howtofree.org]  - Docker Masterclass for Machine Learning and Data Science\\5. Challenge\\1. Challenge Intro.srt\n",
      "C:/Users/shaur/OneDrive/Desktop/Courses\\[Howtofree.org]  - Docker Masterclass for Machine Learning and Data Science\\[Howtofree.org]  - Docker Masterclass for Machine Learning and Data Science\\5. Challenge\\2. Solution Files.html\n",
      "C:/Users/shaur/OneDrive/Desktop/Courses\\[Howtofree.org]  - Docker Masterclass for Machine Learning and Data Science\\[Howtofree.org]  - Docker Masterclass for Machine Learning and Data Science\\5. Challenge\\3. Challenge Solution.mp4\n",
      "C:/Users/shaur/OneDrive/Desktop/Courses\\[Howtofree.org]  - Docker Masterclass for Machine Learning and Data Science\\[Howtofree.org]  - Docker Masterclass for Machine Learning and Data Science\\5. Challenge\\3. Challenge Solution.srt\n",
      "C:/Users/shaur/OneDrive/Desktop/Courses\\[Howtofree.org]  - Docker Masterclass for Machine Learning and Data Science\\[Howtofree.org]  - Docker Masterclass for Machine Learning and Data Science\\5. Challenge\\3.1 Challenge App.zip\n",
      "C:/Users/shaur/OneDrive/Desktop/Courses\\[Howtofree.org]  - Docker Masterclass for Machine Learning and Data Science\\[Howtofree.org]  - Docker Masterclass for Machine Learning and Data Science\\5. Challenge\\4. Quick Notes!.html\n",
      "C:/Users/shaur/OneDrive/Desktop/Courses\\[Howtofree.org]  - Docker Masterclass for Machine Learning and Data Science\\[Howtofree.org]  - Docker Masterclass for Machine Learning and Data Science\\6. Automated Builds\\1. Obtain The Files Here.html\n",
      "C:/Users/shaur/OneDrive/Desktop/Courses\\[Howtofree.org]  - Docker Masterclass for Machine Learning and Data Science\\[Howtofree.org]  - Docker Masterclass for Machine Learning and Data Science\\6. Automated Builds\\2. Git Tips & Tricks.html\n",
      "C:/Users/shaur/OneDrive/Desktop/Courses\\[Howtofree.org]  - Docker Masterclass for Machine Learning and Data Science\\[Howtofree.org]  - Docker Masterclass for Machine Learning and Data Science\\6. Automated Builds\\3. NGINX & Automation.mp4\n",
      "C:/Users/shaur/OneDrive/Desktop/Courses\\[Howtofree.org]  - Docker Masterclass for Machine Learning and Data Science\\[Howtofree.org]  - Docker Masterclass for Machine Learning and Data Science\\6. Automated Builds\\3. NGINX & Automation.srt\n",
      "C:/Users/shaur/OneDrive/Desktop/Courses\\[Howtofree.org]  - Docker Masterclass for Machine Learning and Data Science\\[Howtofree.org]  - Docker Masterclass for Machine Learning and Data Science\\6. Automated Builds\\4. NGINX & Automation P1.mp4\n",
      "C:/Users/shaur/OneDrive/Desktop/Courses\\[Howtofree.org]  - Docker Masterclass for Machine Learning and Data Science\\[Howtofree.org]  - Docker Masterclass for Machine Learning and Data Science\\6. Automated Builds\\4. NGINX & Automation P1.srt\n",
      "C:/Users/shaur/OneDrive/Desktop/Courses\\[Howtofree.org]  - Docker Masterclass for Machine Learning and Data Science\\[Howtofree.org]  - Docker Masterclass for Machine Learning and Data Science\\6. Automated Builds\\5. NGINX & Automation P2.mp4\n",
      "C:/Users/shaur/OneDrive/Desktop/Courses\\[Howtofree.org]  - Docker Masterclass for Machine Learning and Data Science\\[Howtofree.org]  - Docker Masterclass for Machine Learning and Data Science\\6. Automated Builds\\5. NGINX & Automation P2.srt\n",
      "C:/Users/shaur/OneDrive/Desktop/Courses\\[Howtofree.org]  - Docker Masterclass for Machine Learning and Data Science\\[Howtofree.org]  - Docker Masterclass for Machine Learning and Data Science\\6. Automated Builds\\6. NGINX & Automation P3.mp4\n",
      "C:/Users/shaur/OneDrive/Desktop/Courses\\[Howtofree.org]  - Docker Masterclass for Machine Learning and Data Science\\[Howtofree.org]  - Docker Masterclass for Machine Learning and Data Science\\6. Automated Builds\\6. NGINX & Automation P3.srt\n",
      "C:/Users/shaur/OneDrive/Desktop/Courses\\[Howtofree.org]  - Docker Masterclass for Machine Learning and Data Science\\[Howtofree.org]  - Docker Masterclass for Machine Learning and Data Science\\6. Automated Builds\\7. NGINX & Automation P4.mp4\n",
      "C:/Users/shaur/OneDrive/Desktop/Courses\\[Howtofree.org]  - Docker Masterclass for Machine Learning and Data Science\\[Howtofree.org]  - Docker Masterclass for Machine Learning and Data Science\\6. Automated Builds\\7. NGINX & Automation P4.srt\n",
      "C:/Users/shaur/OneDrive/Desktop/Courses\\[Howtofree.org]  - Docker Masterclass for Machine Learning and Data Science\\[Howtofree.org]  - Docker Masterclass for Machine Learning and Data Science\\6. Automated Builds\\8. NGINX & Automation P5.mp4\n",
      "C:/Users/shaur/OneDrive/Desktop/Courses\\[Howtofree.org]  - Docker Masterclass for Machine Learning and Data Science\\[Howtofree.org]  - Docker Masterclass for Machine Learning and Data Science\\6. Automated Builds\\8. NGINX & Automation P5.srt\n",
      "C:/Users/shaur/OneDrive/Desktop/Courses\\[Howtofree.org]  - Docker Masterclass for Machine Learning and Data Science\\[Howtofree.org]  - Docker Masterclass for Machine Learning and Data Science\\6. Automated Builds\\9. NGINX & Automation P6.mp4\n",
      "C:/Users/shaur/OneDrive/Desktop/Courses\\[Howtofree.org]  - Docker Masterclass for Machine Learning and Data Science\\[Howtofree.org]  - Docker Masterclass for Machine Learning and Data Science\\6. Automated Builds\\9. NGINX & Automation P6.srt\n",
      "C:/Users/shaur/OneDrive/Desktop/Courses\\[Howtofree.org]  - Docker Masterclass for Machine Learning and Data Science\\[Howtofree.org]  - Docker Masterclass for Machine Learning and Data Science\\7. File Challenge\\1.1 test file challenge copy.zip\n",
      "C:/Users/shaur/OneDrive/Desktop/Courses\\[Howtofree.org]  - Docker Masterclass for Machine Learning and Data Science\\[Howtofree.org]  - Docker Masterclass for Machine Learning and Data Science\\7. File Challenge\\2. File Challenge Part One.mp4\n",
      "C:/Users/shaur/OneDrive/Desktop/Courses\\[Howtofree.org]  - Docker Masterclass for Machine Learning and Data Science\\[Howtofree.org]  - Docker Masterclass for Machine Learning and Data Science\\7. File Challenge\\2. File Challenge Part One.srt\n",
      "C:/Users/shaur/OneDrive/Desktop/Courses\\[Howtofree.org]  - Docker Masterclass for Machine Learning and Data Science\\[Howtofree.org]  - Docker Masterclass for Machine Learning and Data Science\\7. File Challenge\\3. File Challenge Solution.mp4\n",
      "C:/Users/shaur/OneDrive/Desktop/Courses\\[Howtofree.org]  - Docker Masterclass for Machine Learning and Data Science\\[Howtofree.org]  - Docker Masterclass for Machine Learning and Data Science\\7. File Challenge\\3. File Challenge Solution.srt\n",
      "C:/Users/shaur/OneDrive/Desktop/Courses\\[Howtofree.org]  - Docker Masterclass for Machine Learning and Data Science\\[Howtofree.org]  - Docker Masterclass for Machine Learning and Data Science\\7. File Challenge\\3.1 test file challenge.zip\n",
      "C:/Users/shaur/OneDrive/Desktop/Courses\\[Howtofree.org]  - Docker Masterclass for Machine Learning and Data Science\\[Howtofree.org]  - Docker Masterclass for Machine Learning and Data Science\\8. Docker Compose\\1. Obtain The Docker Compose Resources Here.html\n",
      "C:/Users/shaur/OneDrive/Desktop/Courses\\[Howtofree.org]  - Docker Masterclass for Machine Learning and Data Science\\[Howtofree.org]  - Docker Masterclass for Machine Learning and Data Science\\8. Docker Compose\\1.1 awesome-compose-master.zip\n",
      "C:/Users/shaur/OneDrive/Desktop/Courses\\[Howtofree.org]  - Docker Masterclass for Machine Learning and Data Science\\[Howtofree.org]  - Docker Masterclass for Machine Learning and Data Science\\8. Docker Compose\\1.2 Compose.zip\n",
      "C:/Users/shaur/OneDrive/Desktop/Courses\\[Howtofree.org]  - Docker Masterclass for Machine Learning and Data Science\\[Howtofree.org]  - Docker Masterclass for Machine Learning and Data Science\\8. Docker Compose\\2. Docker Compose.mp4\n",
      "C:/Users/shaur/OneDrive/Desktop/Courses\\[Howtofree.org]  - Docker Masterclass for Machine Learning and Data Science\\[Howtofree.org]  - Docker Masterclass for Machine Learning and Data Science\\8. Docker Compose\\2. Docker Compose.srt\n",
      "C:/Users/shaur/OneDrive/Desktop/Courses\\[Howtofree.org]  - Docker Masterclass for Machine Learning and Data Science\\[Howtofree.org]  - Docker Masterclass for Machine Learning and Data Science\\8. Docker Compose\\3. Docker Compose - Jupyter.mp4\n",
      "C:/Users/shaur/OneDrive/Desktop/Courses\\[Howtofree.org]  - Docker Masterclass for Machine Learning and Data Science\\[Howtofree.org]  - Docker Masterclass for Machine Learning and Data Science\\8. Docker Compose\\3. Docker Compose - Jupyter.srt\n",
      "C:/Users/shaur/OneDrive/Desktop/Courses\\[Howtofree.org]  - Docker Masterclass for Machine Learning and Data Science\\[Howtofree.org]  - Docker Masterclass for Machine Learning and Data Science\\8. Docker Compose\\4. Docker Compose Challenge.mp4\n",
      "C:/Users/shaur/OneDrive/Desktop/Courses\\[Howtofree.org]  - Docker Masterclass for Machine Learning and Data Science\\[Howtofree.org]  - Docker Masterclass for Machine Learning and Data Science\\8. Docker Compose\\4. Docker Compose Challenge.srt\n",
      "C:/Users/shaur/OneDrive/Desktop/Courses\\[Howtofree.org]  - Docker Masterclass for Machine Learning and Data Science\\[Howtofree.org]  - Docker Masterclass for Machine Learning and Data Science\\8. Docker Compose\\5. Docker Compose Challenge - Part 1.mp4\n",
      "C:/Users/shaur/OneDrive/Desktop/Courses\\[Howtofree.org]  - Docker Masterclass for Machine Learning and Data Science\\[Howtofree.org]  - Docker Masterclass for Machine Learning and Data Science\\8. Docker Compose\\5. Docker Compose Challenge - Part 1.srt\n",
      "C:/Users/shaur/OneDrive/Desktop/Courses\\[Howtofree.org]  - Docker Masterclass for Machine Learning and Data Science\\[Howtofree.org]  - Docker Masterclass for Machine Learning and Data Science\\8. Docker Compose\\6. Docker Compose Challenge  - Part 2.mp4\n",
      "C:/Users/shaur/OneDrive/Desktop/Courses\\[Howtofree.org]  - Docker Masterclass for Machine Learning and Data Science\\[Howtofree.org]  - Docker Masterclass for Machine Learning and Data Science\\8. Docker Compose\\6. Docker Compose Challenge  - Part 2.srt\n",
      "C:/Users/shaur/OneDrive/Desktop/Courses\\[Howtofree.org]  - Docker Masterclass for Machine Learning and Data Science\\[Howtofree.org]  - Docker Masterclass for Machine Learning and Data Science\\8. Docker Compose\\7. Compose Building Cheatsheet.html\n",
      "C:/Users/shaur/OneDrive/Desktop/Courses\\[Howtofree.org]  - Docker Masterclass for Machine Learning and Data Science\\[Howtofree.org]  - Docker Masterclass for Machine Learning and Data Science\\8. Docker Compose\\7.1 Docker Compose Commands.pdf\n",
      "C:/Users/shaur/OneDrive/Desktop/Courses\\[Howtofree.org]  - Docker Masterclass for Machine Learning and Data Science\\[Howtofree.org]  - Docker Masterclass for Machine Learning and Data Science\\8. Docker Compose\\8. Docker Extra - Simple Jupyter Command.mp4\n",
      "C:/Users/shaur/OneDrive/Desktop/Courses\\[Howtofree.org]  - Docker Masterclass for Machine Learning and Data Science\\[Howtofree.org]  - Docker Masterclass for Machine Learning and Data Science\\8. Docker Compose\\8. Docker Extra - Simple Jupyter Command.srt\n",
      "C:/Users/shaur/OneDrive/Desktop/Courses\\[Howtofree.org]  - Docker Masterclass for Machine Learning and Data Science\\[Howtofree.org]  - Docker Masterclass for Machine Learning and Data Science\\8. Docker Compose\\DownloadFreeCourses.url\n",
      "C:/Users/shaur/OneDrive/Desktop/Courses\\[Howtofree.org]  - Docker Masterclass for Machine Learning and Data Science\\[Howtofree.org]  - Docker Masterclass for Machine Learning and Data Science\\8. Docker Compose\\HowToFree.Org.url\n",
      "C:/Users/shaur/OneDrive/Desktop/Courses\\[Howtofree.org]  - Docker Masterclass for Machine Learning and Data Science\\[Howtofree.org]  - Docker Masterclass for Machine Learning and Data Science\\9. Docker Swarm\\1. Swarm Section Files.html\n",
      "C:/Users/shaur/OneDrive/Desktop/Courses\\[Howtofree.org]  - Docker Masterclass for Machine Learning and Data Science\\[Howtofree.org]  - Docker Masterclass for Machine Learning and Data Science\\9. Docker Swarm\\1.1 example-voting-app-master.zip\n",
      "C:/Users/shaur/OneDrive/Desktop/Courses\\[Howtofree.org]  - Docker Masterclass for Machine Learning and Data Science\\[Howtofree.org]  - Docker Masterclass for Machine Learning and Data Science\\9. Docker Swarm\\2. Swarm Intro.mp4\n",
      "C:/Users/shaur/OneDrive/Desktop/Courses\\[Howtofree.org]  - Docker Masterclass for Machine Learning and Data Science\\[Howtofree.org]  - Docker Masterclass for Machine Learning and Data Science\\9. Docker Swarm\\2. Swarm Intro.srt\n",
      "C:/Users/shaur/OneDrive/Desktop/Courses\\[Howtofree.org]  - Docker Masterclass for Machine Learning and Data Science\\[Howtofree.org]  - Docker Masterclass for Machine Learning and Data Science\\9. Docker Swarm\\3. Swarm Deploy.mp4\n",
      "C:/Users/shaur/OneDrive/Desktop/Courses\\[Howtofree.org]  - Docker Masterclass for Machine Learning and Data Science\\[Howtofree.org]  - Docker Masterclass for Machine Learning and Data Science\\9. Docker Swarm\\3. Swarm Deploy.srt\n",
      "C:/Users/shaur/OneDrive/Desktop/Courses\\[Howtofree.org]  - Docker Masterclass for Machine Learning and Data Science\\[Howtofree.org]  - Docker Masterclass for Machine Learning and Data Science\\9. Docker Swarm\\4. Swarm Tips.html\n",
      "C:/Users/shaur/OneDrive/Desktop/Courses\\[Howtofree.org]  - Docker Masterclass for Machine Learning and Data Science\\[Howtofree.org]  - Docker Masterclass for Machine Learning and Data Science\\9. Docker Swarm\\4.1 Docker Swarm Tips.pdf\n",
      "C:/Users/shaur/OneDrive/Desktop/Courses\\[Howtofree.org]  - Docker Masterclass for Machine Learning and Data Science\\[Howtofree.org]  - Docker Masterclass for Machine Learning and Data Science\\9. Docker Swarm\\DownloadFreeCourses.url\n",
      "C:/Users/shaur/OneDrive/Desktop/Courses\\[Howtofree.org]  - Docker Masterclass for Machine Learning and Data Science\\[Howtofree.org]  - Docker Masterclass for Machine Learning and Data Science\\9. Docker Swarm\\HowToFree.Org.url\n",
      "C:/Users/shaur/OneDrive/Desktop/Courses\\[Howtofree.org]  - Docker Masterclass for Machine Learning and Data Science\\[Howtofree.org]  - Docker Masterclass for Machine Learning and Data Science\\DownloadFreeCourses.url\n",
      "C:/Users/shaur/OneDrive/Desktop/Courses\\[Howtofree.org]  - Docker Masterclass for Machine Learning and Data Science\\[Howtofree.org]  - Docker Masterclass for Machine Learning and Data Science\\HowToFree.Org.url\n"
     ]
    }
   ],
   "source": [
    "files = recursive_list(\"C:/Users/shaur/OneDrive/Desktop/Courses\")\n",
    "for file in files:\n",
    "    print(file)"
   ]
  },
  {
   "cell_type": "markdown",
   "metadata": {},
   "source": [
    "### Vampire numbers\n",
    "\n",
    "A vampire number is any number which has a pair of factors whose digits (in base 10) match the digits in their product. For instance, 21×60=1260, so we would say that 1260 is a vampire number. Vampire numbers have the same number of digits in the factors so 51×3=153 is not a vampire number. Find all the vampire numbers less than 1000000. "
   ]
  },
  {
   "cell_type": "code",
   "execution_count": 20,
   "metadata": {
    "ExecuteTime": {
     "end_time": "2023-01-26T23:37:48.946688Z",
     "start_time": "2023-01-26T23:37:48.937710Z"
    }
   },
   "outputs": [
    {
     "data": {
      "text/plain": [
       "['1', '2', '6', '0']"
      ]
     },
     "execution_count": 20,
     "metadata": {},
     "output_type": "execute_result"
    }
   ],
   "source": [
    "list('1260')"
   ]
  },
  {
   "cell_type": "code",
   "execution_count": 26,
   "metadata": {},
   "outputs": [],
   "source": [
    "import itertools as it\n",
    "\n",
    "def getFangs(num_str):\n",
    "    num_iter = it.permutations(num_str, len(num_str))\n",
    "\n",
    "    for num_tuple in num_iter:\n",
    "        x, y = num_tuple[:int(len(num_tuple)/2)\n",
    "                         ], num_tuple[int(len(num_tuple)/2):]\n",
    " \n",
    "        x_str, y_str = ''.join(x), ''.join(y)\n",
    " \n",
    "        if x_str[-1] == '0' and y_str[-1] == '0':\n",
    "            continue\n",
    "        if int(x_str) * int(y_str) == int(num_str):\n",
    "            return x_str, y_str\n",
    " \n",
    "    return None\n",
    "\n",
    "def isVampire(n):\n",
    "    n_str = str(n)\n",
    "    if len(n_str)%2!=0:\n",
    "        return False\n",
    "    \n",
    "    fangs = getFangs(n_str)\n",
    "    if not fangs:\n",
    "        return False\n",
    "    return True"
   ]
  },
  {
   "cell_type": "code",
   "execution_count": 27,
   "metadata": {},
   "outputs": [
    {
     "name": "stdout",
     "output_type": "stream",
     "text": [
      "1260\n",
      "1395\n",
      "1435\n",
      "1530\n",
      "1827\n",
      "2187\n",
      "6880\n",
      "102510\n",
      "104260\n",
      "105210\n",
      "105264\n",
      "105750\n",
      "108135\n",
      "110758\n",
      "115672\n",
      "116725\n",
      "117067\n",
      "118440\n",
      "120600\n",
      "123354\n",
      "124483\n",
      "125248\n",
      "125433\n",
      "125460\n",
      "125500\n",
      "126027\n",
      "126846\n",
      "129640\n",
      "129775\n",
      "131242\n",
      "132430\n",
      "133245\n",
      "134725\n",
      "135828\n",
      "135837\n",
      "136525\n",
      "136948\n",
      "140350\n",
      "145314\n",
      "146137\n",
      "146952\n",
      "150300\n",
      "152608\n",
      "152685\n",
      "153436\n",
      "156240\n",
      "156289\n",
      "156915\n",
      "162976\n",
      "163944\n",
      "172822\n",
      "173250\n",
      "174370\n",
      "175329\n",
      "180225\n",
      "180297\n",
      "182250\n",
      "182650\n",
      "186624\n",
      "190260\n",
      "192150\n",
      "193257\n",
      "193945\n",
      "197725\n",
      "201852\n",
      "205785\n",
      "211896\n",
      "213466\n",
      "215860\n",
      "216733\n",
      "217638\n",
      "218488\n",
      "226498\n",
      "226872\n",
      "229648\n",
      "233896\n",
      "241564\n",
      "245182\n",
      "251896\n",
      "253750\n",
      "254740\n",
      "260338\n",
      "262984\n",
      "263074\n",
      "284598\n",
      "284760\n",
      "286416\n",
      "296320\n",
      "304717\n",
      "312475\n",
      "312975\n",
      "315594\n",
      "315900\n",
      "319059\n",
      "319536\n",
      "326452\n",
      "329346\n",
      "329656\n",
      "336550\n",
      "336960\n",
      "338296\n",
      "341653\n",
      "346968\n",
      "361989\n",
      "362992\n",
      "365638\n",
      "368550\n",
      "369189\n",
      "371893\n",
      "378400\n",
      "378418\n",
      "378450\n",
      "384912\n",
      "386415\n",
      "392566\n",
      "404968\n",
      "414895\n",
      "416650\n",
      "416988\n",
      "428980\n",
      "429664\n",
      "447916\n",
      "456840\n",
      "457600\n",
      "458640\n",
      "475380\n",
      "486720\n",
      "489159\n",
      "489955\n",
      "498550\n",
      "516879\n",
      "529672\n",
      "536539\n",
      "538650\n",
      "559188\n",
      "567648\n",
      "568750\n",
      "629680\n",
      "638950\n",
      "673920\n",
      "679500\n",
      "729688\n",
      "736695\n",
      "738468\n",
      "769792\n",
      "789250\n",
      "789525\n",
      "792585\n",
      "794088\n",
      "809919\n",
      "809964\n",
      "815958\n",
      "829696\n",
      "841995\n",
      "939658\n"
     ]
    }
   ],
   "source": [
    "for i in range(1,1000000):\n",
    "    if isVampire(i):\n",
    "        print(i)"
   ]
  },
  {
   "cell_type": "code",
   "execution_count": null,
   "metadata": {},
   "outputs": [],
   "source": []
  }
 ],
 "metadata": {
  "kernelspec": {
   "display_name": "Python 3 (ipykernel)",
   "language": "python",
   "name": "python3"
  },
  "language_info": {
   "codemirror_mode": {
    "name": "ipython",
    "version": 3
   },
   "file_extension": ".py",
   "mimetype": "text/x-python",
   "name": "python",
   "nbconvert_exporter": "python",
   "pygments_lexer": "ipython3",
   "version": "3.9.17"
  },
  "toc": {
   "base_numbering": 1,
   "nav_menu": {},
   "number_sections": true,
   "sideBar": true,
   "skip_h1_title": false,
   "title_cell": "Table of Contents",
   "title_sidebar": "Contents",
   "toc_cell": false,
   "toc_position": {},
   "toc_section_display": true,
   "toc_window_display": false
  },
  "varInspector": {
   "cols": {
    "lenName": 16,
    "lenType": 16,
    "lenVar": 40
   },
   "kernels_config": {
    "python": {
     "delete_cmd_postfix": "",
     "delete_cmd_prefix": "del ",
     "library": "var_list.py",
     "varRefreshCmd": "print(var_dic_list())"
    },
    "r": {
     "delete_cmd_postfix": ") ",
     "delete_cmd_prefix": "rm(",
     "library": "var_list.r",
     "varRefreshCmd": "cat(var_dic_list()) "
    }
   },
   "types_to_exclude": [
    "module",
    "function",
    "builtin_function_or_method",
    "instance",
    "_Feature"
   ],
   "window_display": false
  }
 },
 "nbformat": 4,
 "nbformat_minor": 2
}
